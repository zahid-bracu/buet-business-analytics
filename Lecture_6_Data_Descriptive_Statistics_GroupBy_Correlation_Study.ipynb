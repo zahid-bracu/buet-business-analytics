{
  "nbformat": 4,
  "nbformat_minor": 0,
  "metadata": {
    "colab": {
      "provenance": [],
      "authorship_tag": "ABX9TyPPap1qMhhzkLmlbd52EIlZ",
      "include_colab_link": true
    },
    "kernelspec": {
      "name": "python3",
      "display_name": "Python 3"
    },
    "language_info": {
      "name": "python"
    }
  },
  "cells": [
    {
      "cell_type": "markdown",
      "metadata": {
        "id": "view-in-github",
        "colab_type": "text"
      },
      "source": [
        "<a href=\"https://colab.research.google.com/github/zahid-bracu/buet-business-analytics/blob/main/Lecture_6_Data_Descriptive_Statistics_GroupBy_Correlation_Study.ipynb\" target=\"_parent\"><img src=\"https://colab.research.google.com/assets/colab-badge.svg\" alt=\"Open In Colab\"/></a>"
      ]
    },
    {
      "cell_type": "markdown",
      "source": [
        "#Descriptive Statistics\n",
        "Python Descriptive Statistics process describes the basic features of data in a study suchas1. Mean\n",
        "2. Standard Deviation\n",
        "3. Mode\n",
        "4. Skewness\n",
        "5. Median"
      ],
      "metadata": {
        "id": "IOdrUyIeSsuw"
      }
    },
    {
      "cell_type": "markdown",
      "source": [
        "#Load Data set & Data Preprocessing"
      ],
      "metadata": {
        "id": "2qdJpJokQ0qJ"
      }
    },
    {
      "cell_type": "code",
      "execution_count": null,
      "metadata": {
        "colab": {
          "base_uri": "https://localhost:8080/"
        },
        "id": "ZD7Ia_6bQRmr",
        "outputId": "a5896d02-dab0-4378-af85-178757c0c1f8"
      },
      "outputs": [
        {
          "output_type": "stream",
          "name": "stdout",
          "text": [
            "Drive already mounted at /content/drive; to attempt to forcibly remount, call drive.mount(\"/content/drive\", force_remount=True).\n"
          ]
        },
        {
          "output_type": "execute_result",
          "data": {
            "text/plain": [
              "payment_key       0\n",
              "coustomer_key     0\n",
              "time_key          0\n",
              "item_key          0\n",
              "store_key         0\n",
              "quantity          3\n",
              "unit             47\n",
              "unit_price        1\n",
              "total_price       5\n",
              "dtype: int64"
            ]
          },
          "metadata": {},
          "execution_count": 15
        }
      ],
      "source": [
        "from google.colab import drive #importing google drive library from google colab\n",
        "drive.mount('/content/drive') #mounting the google drive\n",
        "import pandas as pd #importing panda library\n",
        "file_path = \"/content/drive/My Drive/Datas/e-commerce-data.xlsx\" #Create file path\n",
        "#Loading particular sheet of xlsx data into pandas data frame from the xlsx file located in google drive\n",
        "fact_table = pd.read_excel(file_path, sheet_name='Fact_table', engine='openpyxl')\n",
        "#Loading particular sheet of xlsx data into pandas data frame from the xlsx file located in google drive\n",
        "item_dim = pd.read_excel(file_path, sheet_name='Item_dim', engine='openpyxl')\n",
        "customer_dim = pd.read_excel(file_path, sheet_name='Coustomer_dim', engine='openpyxl')\n",
        "time_dim= pd.read_excel(file_path, sheet_name='Time_dim', engine='openpyxl')\n",
        "store_dim= pd.read_excel(file_path, sheet_name='Store_dim', engine='openpyxl')\n",
        "trans_dim= pd.read_excel(file_path, sheet_name='Trans_dim', engine='openpyxl')\n",
        "#Check number of null data in each column\n",
        "fact_table.isnull().sum()"
      ]
    },
    {
      "cell_type": "code",
      "source": [
        "# Mode imputation\n",
        "mode_value = fact_table['unit'].mode()[0]  # Calculate the mode\n",
        "fact_table['unit'].fillna(mode_value, inplace=True)  # Fill missing values with mode\n",
        "\n",
        "mode_value = fact_table['unit_price'].mode()[0]  # Calculate the mode\n",
        "fact_table['unit_price'].fillna(mode_value, inplace=True)  # Fill missing values with mode\n",
        "\n",
        "\n",
        "mode_value = fact_table['total_price'].mode()[0]  # Calculate the mode\n",
        "fact_table['total_price'].fillna(mode_value, inplace=True)  # Fill missing values with mode\n",
        "\n",
        "mode_value = fact_table['quantity'].mode()[0]  # Calculate the mode\n",
        "fact_table['quantity'].fillna(mode_value, inplace=True)  # Fill missing values with mode\n",
        "\n",
        "fact_table.isnull().sum()"
      ],
      "metadata": {
        "colab": {
          "base_uri": "https://localhost:8080/"
        },
        "id": "tZZGvKW0RpXp",
        "outputId": "70707a29-f414-4403-c8b3-6ecc3fedba5a"
      },
      "execution_count": null,
      "outputs": [
        {
          "output_type": "execute_result",
          "data": {
            "text/plain": [
              "payment_key      0\n",
              "coustomer_key    0\n",
              "time_key         0\n",
              "item_key         0\n",
              "store_key        0\n",
              "quantity         0\n",
              "unit             0\n",
              "unit_price       0\n",
              "total_price      0\n",
              "dtype: int64"
            ]
          },
          "metadata": {},
          "execution_count": 2
        }
      ]
    },
    {
      "cell_type": "markdown",
      "source": [
        "#Descriptive Statistics"
      ],
      "metadata": {
        "id": "2KKURLSLS3sQ"
      }
    },
    {
      "cell_type": "markdown",
      "source": [
        "##Mean\n",
        "* Calculating mean of selected column\n",
        "* Calculate the mean value of quantity and unit price of the fact table,\n",
        "\n",
        "![erfg.PNG](data:image/png;base64,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)"
      ],
      "metadata": {
        "id": "XQ11_lTzTCcY"
      }
    },
    {
      "cell_type": "code",
      "source": [
        "mean_value=fact_table[['quantity','unit_price']].mean()\n",
        "print(\"Mean value : \")\n",
        "mean_value"
      ],
      "metadata": {
        "colab": {
          "base_uri": "https://localhost:8080/"
        },
        "id": "Ozde-FC5TVgQ",
        "outputId": "e868362a-ea81-4844-9816-d90bd1604786"
      },
      "execution_count": null,
      "outputs": [
        {
          "output_type": "stream",
          "name": "stdout",
          "text": [
            "Mean value : \n"
          ]
        },
        {
          "output_type": "execute_result",
          "data": {
            "text/plain": [
              "quantity       5.9739\n",
              "unit_price    17.4552\n",
              "dtype: float64"
            ]
          },
          "metadata": {},
          "execution_count": 3
        }
      ]
    },
    {
      "cell_type": "markdown",
      "source": [
        "##Standard Deviation\n",
        "* Calculate the standard deviation of the unit price of the item table,\n",
        "\n",
        "\n",
        "Standard deviation is a measure of the amount of variation or dispersion in a set of values. It tells us how spread out the numbers in a data set are around the mean.\n",
        "\n",
        "Here's an example calculation of standard deviation:\n",
        "\n",
        "Let's say we have a data set of exam scores: 75, 80, 85, 90, 95.\n",
        "\n",
        "* Calculate the mean (average) of the data set: Mean = (75 + 80 + 85 + 90 + 95) / 5 = 85.\n",
        "* Calculate the difference between each data point and the mean: Differences: -10, -5, 0, 5, 10.\n",
        "* Square each difference: Squares: 100, 25, 0, 25, 100.\n",
        "* Calculate the mean of the squared differences: Mean of squares = (100 + 25 + 0 + 25 + 100) / 5 = 50.\n",
        "* Take the square root of the mean of the squared differences: Standard deviation = √50 ≈ 7.07.\n",
        "\n",
        "So, the standard deviation of the exam scores is approximately 7.07."
      ],
      "metadata": {
        "id": "KsVFuylCT1iI"
      }
    },
    {
      "cell_type": "code",
      "source": [
        "std_value=fact_table['unit_price'].std()\n",
        "std_value"
      ],
      "metadata": {
        "colab": {
          "base_uri": "https://localhost:8080/"
        },
        "id": "yjfp2QeFT8hH",
        "outputId": "f6ddf0b4-8310-4c4b-dd03-0d60fa9ef13b"
      },
      "execution_count": null,
      "outputs": [
        {
          "output_type": "execute_result",
          "data": {
            "text/plain": [
              "8.535126114931154"
            ]
          },
          "metadata": {},
          "execution_count": 4
        }
      ]
    },
    {
      "cell_type": "markdown",
      "source": [
        "##Mode\n",
        "* Find the mode value/most common value of the customer key in the fact table.\n",
        "\n",
        "* mode refers to the value or values that occur most frequently in a dataset. Mode is commonly used with categorical data, where data points are grouped into categories rather than being numerical values.\n",
        "\n",
        "* For example, consider a dataset representing the favorite colors of a group of people:Red, Blue, Green, Blue, Red, Yellow, Blue\n",
        "In this dataset, \"Blue\" occurs most frequently, so the mode of this dataset is \"Blue\"."
      ],
      "metadata": {
        "id": "zHt5LP_8URFH"
      }
    },
    {
      "cell_type": "code",
      "source": [
        "mode_value=fact_table['coustomer_key'].mode()\n",
        "mode_value"
      ],
      "metadata": {
        "colab": {
          "base_uri": "https://localhost:8080/"
        },
        "id": "JAx3iuvuUW84",
        "outputId": "4967ae62-43bc-4359-97b0-00f53fabad97"
      },
      "execution_count": null,
      "outputs": [
        {
          "output_type": "execute_result",
          "data": {
            "text/plain": [
              "0    C004608\n",
              "Name: coustomer_key, dtype: object"
            ]
          },
          "metadata": {},
          "execution_count": 5
        }
      ]
    },
    {
      "cell_type": "markdown",
      "source": [
        "##Median Value\n",
        "* Find the middle value of the data set\n",
        "* For example, consider the dataset [3, 6, 1, 9, 12, 4, 7]. When these values are arranged in ascending order, it becomes [1, 3, 4, 6, 7, 9, 12]. The median in this case is 6, because it's the middle value.\n",
        "\n",
        "* If the dataset had been [3, 6, 1, 9, 12, 4], then the median would be (4 + 6) / 2 = 5, because 4 and 6 are the two middle values."
      ],
      "metadata": {
        "id": "YlyKAkgiOgxi"
      }
    },
    {
      "cell_type": "code",
      "source": [
        "median_value=fact_table['unit_price'].median()\n",
        "median_value"
      ],
      "metadata": {
        "id": "x2S8jHTMUd3X",
        "colab": {
          "base_uri": "https://localhost:8080/"
        },
        "outputId": "dc22edab-347d-4c19-a2b7-e8c4192113a1"
      },
      "execution_count": null,
      "outputs": [
        {
          "output_type": "execute_result",
          "data": {
            "text/plain": [
              "16.0"
            ]
          },
          "metadata": {},
          "execution_count": 6
        }
      ]
    },
    {
      "cell_type": "markdown",
      "source": [
        "##Skewness"
      ],
      "metadata": {
        "id": "xQn92_fG3w9B"
      }
    },
    {
      "cell_type": "code",
      "source": [
        "skew_value = fact_table[['quantity']].skew()\n",
        "skew_value"
      ],
      "metadata": {
        "colab": {
          "base_uri": "https://localhost:8080/"
        },
        "id": "cQhu8t1C9lWp",
        "outputId": "5ba21b26-5787-44a3-a48d-f76923784f58"
      },
      "execution_count": null,
      "outputs": [
        {
          "output_type": "execute_result",
          "data": {
            "text/plain": [
              "quantity    0.005529\n",
              "dtype: float64"
            ]
          },
          "metadata": {},
          "execution_count": 7
        }
      ]
    },
    {
      "cell_type": "markdown",
      "source": [
        "#Group By"
      ],
      "metadata": {
        "id": "-XoS3Aw6916C"
      }
    },
    {
      "cell_type": "markdown",
      "source": [
        "##Group by & Sum over 1 column"
      ],
      "metadata": {
        "id": "ru-GkDV-7m5d"
      }
    },
    {
      "cell_type": "code",
      "source": [
        "payment_key_sum_group =fact_table.groupby(['payment_key']).sum()\n",
        "payment_key_sum_group['unit_price'].head()"
      ],
      "metadata": {
        "colab": {
          "base_uri": "https://localhost:8080/"
        },
        "id": "q9Z5hR1z93hZ",
        "outputId": "e6aac22d-ba14-45e9-f0bd-058177fb2f9d"
      },
      "execution_count": null,
      "outputs": [
        {
          "output_type": "execute_result",
          "data": {
            "text/plain": [
              "payment_key\n",
              "P001    4488.25\n",
              "P002    4783.75\n",
              "P003    4609.75\n",
              "P004    4685.25\n",
              "P005    4476.25\n",
              "Name: unit_price, dtype: float64"
            ]
          },
          "metadata": {},
          "execution_count": 8
        }
      ]
    },
    {
      "cell_type": "markdown",
      "source": [
        "##Group by & Reset Index & Sum over 1 column"
      ],
      "metadata": {
        "id": "x-otRmwS7sBd"
      }
    },
    {
      "cell_type": "code",
      "source": [
        "payment_key_sum_group =fact_table.groupby(['payment_key']).sum().reset_index()\n",
        "payment_key_sum_group['unit_price'].head()"
      ],
      "metadata": {
        "colab": {
          "base_uri": "https://localhost:8080/"
        },
        "id": "PDzehwso-SMy",
        "outputId": "d6014463-183c-4f29-b4c8-6b12bd1e45e5"
      },
      "execution_count": null,
      "outputs": [
        {
          "output_type": "execute_result",
          "data": {
            "text/plain": [
              "0    4488.25\n",
              "1    4783.75\n",
              "2    4609.75\n",
              "3    4685.25\n",
              "4    4476.25\n",
              "Name: unit_price, dtype: float64"
            ]
          },
          "metadata": {},
          "execution_count": 9
        }
      ]
    },
    {
      "cell_type": "markdown",
      "source": [
        "##Group & Sum & Reset_index over 2 columns"
      ],
      "metadata": {
        "id": "MDvrzWJX8rqe"
      }
    },
    {
      "cell_type": "code",
      "source": [
        "payment_item_key=fact_table.groupby(['payment_key', 'item_key']).sum().reset_index()\n",
        "selected_columns = ['payment_key','unit_price','total_price']\n",
        "payment_item_key[selected_columns].head()"
      ],
      "metadata": {
        "colab": {
          "base_uri": "https://localhost:8080/",
          "height": 206
        },
        "id": "g3CuyjuP_a-m",
        "outputId": "809d7b3c-d9d6-49a2-e906-8b165afb8336"
      },
      "execution_count": null,
      "outputs": [
        {
          "output_type": "execute_result",
          "data": {
            "text/plain": [
              "  payment_key  unit_price  total_price\n",
              "0        P001       13.50        67.50\n",
              "1        P001        6.75        54.00\n",
              "2        P001       13.50        47.25\n",
              "3        P001       16.25        65.00\n",
              "4        P001       16.25        81.25"
            ],
            "text/html": [
              "\n",
              "  <div id=\"df-71d3dde7-6515-43f3-b7a3-4cd23a7876d9\" class=\"colab-df-container\">\n",
              "    <div>\n",
              "<style scoped>\n",
              "    .dataframe tbody tr th:only-of-type {\n",
              "        vertical-align: middle;\n",
              "    }\n",
              "\n",
              "    .dataframe tbody tr th {\n",
              "        vertical-align: top;\n",
              "    }\n",
              "\n",
              "    .dataframe thead th {\n",
              "        text-align: right;\n",
              "    }\n",
              "</style>\n",
              "<table border=\"1\" class=\"dataframe\">\n",
              "  <thead>\n",
              "    <tr style=\"text-align: right;\">\n",
              "      <th></th>\n",
              "      <th>payment_key</th>\n",
              "      <th>unit_price</th>\n",
              "      <th>total_price</th>\n",
              "    </tr>\n",
              "  </thead>\n",
              "  <tbody>\n",
              "    <tr>\n",
              "      <th>0</th>\n",
              "      <td>P001</td>\n",
              "      <td>13.50</td>\n",
              "      <td>67.50</td>\n",
              "    </tr>\n",
              "    <tr>\n",
              "      <th>1</th>\n",
              "      <td>P001</td>\n",
              "      <td>6.75</td>\n",
              "      <td>54.00</td>\n",
              "    </tr>\n",
              "    <tr>\n",
              "      <th>2</th>\n",
              "      <td>P001</td>\n",
              "      <td>13.50</td>\n",
              "      <td>47.25</td>\n",
              "    </tr>\n",
              "    <tr>\n",
              "      <th>3</th>\n",
              "      <td>P001</td>\n",
              "      <td>16.25</td>\n",
              "      <td>65.00</td>\n",
              "    </tr>\n",
              "    <tr>\n",
              "      <th>4</th>\n",
              "      <td>P001</td>\n",
              "      <td>16.25</td>\n",
              "      <td>81.25</td>\n",
              "    </tr>\n",
              "  </tbody>\n",
              "</table>\n",
              "</div>\n",
              "    <div class=\"colab-df-buttons\">\n",
              "\n",
              "  <div class=\"colab-df-container\">\n",
              "    <button class=\"colab-df-convert\" onclick=\"convertToInteractive('df-71d3dde7-6515-43f3-b7a3-4cd23a7876d9')\"\n",
              "            title=\"Convert this dataframe to an interactive table.\"\n",
              "            style=\"display:none;\">\n",
              "\n",
              "  <svg xmlns=\"http://www.w3.org/2000/svg\" height=\"24px\" viewBox=\"0 -960 960 960\">\n",
              "    <path d=\"M120-120v-720h720v720H120Zm60-500h600v-160H180v160Zm220 220h160v-160H400v160Zm0 220h160v-160H400v160ZM180-400h160v-160H180v160Zm440 0h160v-160H620v160ZM180-180h160v-160H180v160Zm440 0h160v-160H620v160Z\"/>\n",
              "  </svg>\n",
              "    </button>\n",
              "\n",
              "  <style>\n",
              "    .colab-df-container {\n",
              "      display:flex;\n",
              "      gap: 12px;\n",
              "    }\n",
              "\n",
              "    .colab-df-convert {\n",
              "      background-color: #E8F0FE;\n",
              "      border: none;\n",
              "      border-radius: 50%;\n",
              "      cursor: pointer;\n",
              "      display: none;\n",
              "      fill: #1967D2;\n",
              "      height: 32px;\n",
              "      padding: 0 0 0 0;\n",
              "      width: 32px;\n",
              "    }\n",
              "\n",
              "    .colab-df-convert:hover {\n",
              "      background-color: #E2EBFA;\n",
              "      box-shadow: 0px 1px 2px rgba(60, 64, 67, 0.3), 0px 1px 3px 1px rgba(60, 64, 67, 0.15);\n",
              "      fill: #174EA6;\n",
              "    }\n",
              "\n",
              "    .colab-df-buttons div {\n",
              "      margin-bottom: 4px;\n",
              "    }\n",
              "\n",
              "    [theme=dark] .colab-df-convert {\n",
              "      background-color: #3B4455;\n",
              "      fill: #D2E3FC;\n",
              "    }\n",
              "\n",
              "    [theme=dark] .colab-df-convert:hover {\n",
              "      background-color: #434B5C;\n",
              "      box-shadow: 0px 1px 3px 1px rgba(0, 0, 0, 0.15);\n",
              "      filter: drop-shadow(0px 1px 2px rgba(0, 0, 0, 0.3));\n",
              "      fill: #FFFFFF;\n",
              "    }\n",
              "  </style>\n",
              "\n",
              "    <script>\n",
              "      const buttonEl =\n",
              "        document.querySelector('#df-71d3dde7-6515-43f3-b7a3-4cd23a7876d9 button.colab-df-convert');\n",
              "      buttonEl.style.display =\n",
              "        google.colab.kernel.accessAllowed ? 'block' : 'none';\n",
              "\n",
              "      async function convertToInteractive(key) {\n",
              "        const element = document.querySelector('#df-71d3dde7-6515-43f3-b7a3-4cd23a7876d9');\n",
              "        const dataTable =\n",
              "          await google.colab.kernel.invokeFunction('convertToInteractive',\n",
              "                                                    [key], {});\n",
              "        if (!dataTable) return;\n",
              "\n",
              "        const docLinkHtml = 'Like what you see? Visit the ' +\n",
              "          '<a target=\"_blank\" href=https://colab.research.google.com/notebooks/data_table.ipynb>data table notebook</a>'\n",
              "          + ' to learn more about interactive tables.';\n",
              "        element.innerHTML = '';\n",
              "        dataTable['output_type'] = 'display_data';\n",
              "        await google.colab.output.renderOutput(dataTable, element);\n",
              "        const docLink = document.createElement('div');\n",
              "        docLink.innerHTML = docLinkHtml;\n",
              "        element.appendChild(docLink);\n",
              "      }\n",
              "    </script>\n",
              "  </div>\n",
              "\n",
              "\n",
              "<div id=\"df-73b7e723-fa81-44cd-a2c8-75814b4f30e4\">\n",
              "  <button class=\"colab-df-quickchart\" onclick=\"quickchart('df-73b7e723-fa81-44cd-a2c8-75814b4f30e4')\"\n",
              "            title=\"Suggest charts\"\n",
              "            style=\"display:none;\">\n",
              "\n",
              "<svg xmlns=\"http://www.w3.org/2000/svg\" height=\"24px\"viewBox=\"0 0 24 24\"\n",
              "     width=\"24px\">\n",
              "    <g>\n",
              "        <path d=\"M19 3H5c-1.1 0-2 .9-2 2v14c0 1.1.9 2 2 2h14c1.1 0 2-.9 2-2V5c0-1.1-.9-2-2-2zM9 17H7v-7h2v7zm4 0h-2V7h2v10zm4 0h-2v-4h2v4z\"/>\n",
              "    </g>\n",
              "</svg>\n",
              "  </button>\n",
              "\n",
              "<style>\n",
              "  .colab-df-quickchart {\n",
              "      --bg-color: #E8F0FE;\n",
              "      --fill-color: #1967D2;\n",
              "      --hover-bg-color: #E2EBFA;\n",
              "      --hover-fill-color: #174EA6;\n",
              "      --disabled-fill-color: #AAA;\n",
              "      --disabled-bg-color: #DDD;\n",
              "  }\n",
              "\n",
              "  [theme=dark] .colab-df-quickchart {\n",
              "      --bg-color: #3B4455;\n",
              "      --fill-color: #D2E3FC;\n",
              "      --hover-bg-color: #434B5C;\n",
              "      --hover-fill-color: #FFFFFF;\n",
              "      --disabled-bg-color: #3B4455;\n",
              "      --disabled-fill-color: #666;\n",
              "  }\n",
              "\n",
              "  .colab-df-quickchart {\n",
              "    background-color: var(--bg-color);\n",
              "    border: none;\n",
              "    border-radius: 50%;\n",
              "    cursor: pointer;\n",
              "    display: none;\n",
              "    fill: var(--fill-color);\n",
              "    height: 32px;\n",
              "    padding: 0;\n",
              "    width: 32px;\n",
              "  }\n",
              "\n",
              "  .colab-df-quickchart:hover {\n",
              "    background-color: var(--hover-bg-color);\n",
              "    box-shadow: 0 1px 2px rgba(60, 64, 67, 0.3), 0 1px 3px 1px rgba(60, 64, 67, 0.15);\n",
              "    fill: var(--button-hover-fill-color);\n",
              "  }\n",
              "\n",
              "  .colab-df-quickchart-complete:disabled,\n",
              "  .colab-df-quickchart-complete:disabled:hover {\n",
              "    background-color: var(--disabled-bg-color);\n",
              "    fill: var(--disabled-fill-color);\n",
              "    box-shadow: none;\n",
              "  }\n",
              "\n",
              "  .colab-df-spinner {\n",
              "    border: 2px solid var(--fill-color);\n",
              "    border-color: transparent;\n",
              "    border-bottom-color: var(--fill-color);\n",
              "    animation:\n",
              "      spin 1s steps(1) infinite;\n",
              "  }\n",
              "\n",
              "  @keyframes spin {\n",
              "    0% {\n",
              "      border-color: transparent;\n",
              "      border-bottom-color: var(--fill-color);\n",
              "      border-left-color: var(--fill-color);\n",
              "    }\n",
              "    20% {\n",
              "      border-color: transparent;\n",
              "      border-left-color: var(--fill-color);\n",
              "      border-top-color: var(--fill-color);\n",
              "    }\n",
              "    30% {\n",
              "      border-color: transparent;\n",
              "      border-left-color: var(--fill-color);\n",
              "      border-top-color: var(--fill-color);\n",
              "      border-right-color: var(--fill-color);\n",
              "    }\n",
              "    40% {\n",
              "      border-color: transparent;\n",
              "      border-right-color: var(--fill-color);\n",
              "      border-top-color: var(--fill-color);\n",
              "    }\n",
              "    60% {\n",
              "      border-color: transparent;\n",
              "      border-right-color: var(--fill-color);\n",
              "    }\n",
              "    80% {\n",
              "      border-color: transparent;\n",
              "      border-right-color: var(--fill-color);\n",
              "      border-bottom-color: var(--fill-color);\n",
              "    }\n",
              "    90% {\n",
              "      border-color: transparent;\n",
              "      border-bottom-color: var(--fill-color);\n",
              "    }\n",
              "  }\n",
              "</style>\n",
              "\n",
              "  <script>\n",
              "    async function quickchart(key) {\n",
              "      const quickchartButtonEl =\n",
              "        document.querySelector('#' + key + ' button');\n",
              "      quickchartButtonEl.disabled = true;  // To prevent multiple clicks.\n",
              "      quickchartButtonEl.classList.add('colab-df-spinner');\n",
              "      try {\n",
              "        const charts = await google.colab.kernel.invokeFunction(\n",
              "            'suggestCharts', [key], {});\n",
              "      } catch (error) {\n",
              "        console.error('Error during call to suggestCharts:', error);\n",
              "      }\n",
              "      quickchartButtonEl.classList.remove('colab-df-spinner');\n",
              "      quickchartButtonEl.classList.add('colab-df-quickchart-complete');\n",
              "    }\n",
              "    (() => {\n",
              "      let quickchartButtonEl =\n",
              "        document.querySelector('#df-73b7e723-fa81-44cd-a2c8-75814b4f30e4 button');\n",
              "      quickchartButtonEl.style.display =\n",
              "        google.colab.kernel.accessAllowed ? 'block' : 'none';\n",
              "    })();\n",
              "  </script>\n",
              "</div>\n",
              "\n",
              "    </div>\n",
              "  </div>\n"
            ],
            "application/vnd.google.colaboratory.intrinsic+json": {
              "type": "dataframe",
              "summary": "{\n  \"name\": \"payment_item_key[selected_columns]\",\n  \"rows\": 5,\n  \"fields\": [\n    {\n      \"column\": \"payment_key\",\n      \"properties\": {\n        \"dtype\": \"category\",\n        \"num_unique_values\": 1,\n        \"samples\": [\n          \"P001\"\n        ],\n        \"semantic_type\": \"\",\n        \"description\": \"\"\n      }\n    },\n    {\n      \"column\": \"unit_price\",\n      \"properties\": {\n        \"dtype\": \"number\",\n        \"std\": 3.8850675669800134,\n        \"min\": 6.75,\n        \"max\": 16.25,\n        \"num_unique_values\": 3,\n        \"samples\": [\n          13.5\n        ],\n        \"semantic_type\": \"\",\n        \"description\": \"\"\n      }\n    },\n    {\n      \"column\": \"total_price\",\n      \"properties\": {\n        \"dtype\": \"number\",\n        \"std\": 13.099379756309075,\n        \"min\": 47.25,\n        \"max\": 81.25,\n        \"num_unique_values\": 5,\n        \"samples\": [\n          54.0\n        ],\n        \"semantic_type\": \"\",\n        \"description\": \"\"\n      }\n    }\n  ]\n}"
            }
          },
          "metadata": {},
          "execution_count": 10
        }
      ]
    },
    {
      "cell_type": "markdown",
      "source": [
        "#Groupby & multiple aggregations"
      ],
      "metadata": {
        "id": "wk7CG0QdCAMH"
      }
    },
    {
      "cell_type": "code",
      "source": [
        "payment_key_max_min =fact_table.groupby(['payment_key']).aggregate(['min','max']).reset_index()\n",
        "selected_columns = ['payment_key','unit_price','total_price']\n",
        "payment_key_max_min[selected_columns].head()"
      ],
      "metadata": {
        "colab": {
          "base_uri": "https://localhost:8080/",
          "height": 237
        },
        "id": "Z1H5N8aeCJVO",
        "outputId": "b7e2e2d6-d7d3-42b3-972a-c347577b9bcd"
      },
      "execution_count": null,
      "outputs": [
        {
          "output_type": "execute_result",
          "data": {
            "text/plain": [
              "  payment_key unit_price       total_price       \n",
              "                     min   max         min    max\n",
              "0        P001       6.00  48.0        6.00  506.0\n",
              "1        P002       6.00  55.0        8.00  605.0\n",
              "2        P003       6.75  48.0        6.75  528.0\n",
              "3        P004       6.00  55.0        6.75  583.0\n",
              "4        P005       6.00  55.0        6.75  530.0"
            ],
            "text/html": [
              "\n",
              "  <div id=\"df-a670172a-d156-4a45-a9d7-77222fa2ae31\" class=\"colab-df-container\">\n",
              "    <div>\n",
              "<style scoped>\n",
              "    .dataframe tbody tr th:only-of-type {\n",
              "        vertical-align: middle;\n",
              "    }\n",
              "\n",
              "    .dataframe tbody tr th {\n",
              "        vertical-align: top;\n",
              "    }\n",
              "\n",
              "    .dataframe thead tr th {\n",
              "        text-align: left;\n",
              "    }\n",
              "</style>\n",
              "<table border=\"1\" class=\"dataframe\">\n",
              "  <thead>\n",
              "    <tr>\n",
              "      <th></th>\n",
              "      <th>payment_key</th>\n",
              "      <th colspan=\"2\" halign=\"left\">unit_price</th>\n",
              "      <th colspan=\"2\" halign=\"left\">total_price</th>\n",
              "    </tr>\n",
              "    <tr>\n",
              "      <th></th>\n",
              "      <th></th>\n",
              "      <th>min</th>\n",
              "      <th>max</th>\n",
              "      <th>min</th>\n",
              "      <th>max</th>\n",
              "    </tr>\n",
              "  </thead>\n",
              "  <tbody>\n",
              "    <tr>\n",
              "      <th>0</th>\n",
              "      <td>P001</td>\n",
              "      <td>6.00</td>\n",
              "      <td>48.0</td>\n",
              "      <td>6.00</td>\n",
              "      <td>506.0</td>\n",
              "    </tr>\n",
              "    <tr>\n",
              "      <th>1</th>\n",
              "      <td>P002</td>\n",
              "      <td>6.00</td>\n",
              "      <td>55.0</td>\n",
              "      <td>8.00</td>\n",
              "      <td>605.0</td>\n",
              "    </tr>\n",
              "    <tr>\n",
              "      <th>2</th>\n",
              "      <td>P003</td>\n",
              "      <td>6.75</td>\n",
              "      <td>48.0</td>\n",
              "      <td>6.75</td>\n",
              "      <td>528.0</td>\n",
              "    </tr>\n",
              "    <tr>\n",
              "      <th>3</th>\n",
              "      <td>P004</td>\n",
              "      <td>6.00</td>\n",
              "      <td>55.0</td>\n",
              "      <td>6.75</td>\n",
              "      <td>583.0</td>\n",
              "    </tr>\n",
              "    <tr>\n",
              "      <th>4</th>\n",
              "      <td>P005</td>\n",
              "      <td>6.00</td>\n",
              "      <td>55.0</td>\n",
              "      <td>6.75</td>\n",
              "      <td>530.0</td>\n",
              "    </tr>\n",
              "  </tbody>\n",
              "</table>\n",
              "</div>\n",
              "    <div class=\"colab-df-buttons\">\n",
              "\n",
              "  <div class=\"colab-df-container\">\n",
              "    <button class=\"colab-df-convert\" onclick=\"convertToInteractive('df-a670172a-d156-4a45-a9d7-77222fa2ae31')\"\n",
              "            title=\"Convert this dataframe to an interactive table.\"\n",
              "            style=\"display:none;\">\n",
              "\n",
              "  <svg xmlns=\"http://www.w3.org/2000/svg\" height=\"24px\" viewBox=\"0 -960 960 960\">\n",
              "    <path d=\"M120-120v-720h720v720H120Zm60-500h600v-160H180v160Zm220 220h160v-160H400v160Zm0 220h160v-160H400v160ZM180-400h160v-160H180v160Zm440 0h160v-160H620v160ZM180-180h160v-160H180v160Zm440 0h160v-160H620v160Z\"/>\n",
              "  </svg>\n",
              "    </button>\n",
              "\n",
              "  <style>\n",
              "    .colab-df-container {\n",
              "      display:flex;\n",
              "      gap: 12px;\n",
              "    }\n",
              "\n",
              "    .colab-df-convert {\n",
              "      background-color: #E8F0FE;\n",
              "      border: none;\n",
              "      border-radius: 50%;\n",
              "      cursor: pointer;\n",
              "      display: none;\n",
              "      fill: #1967D2;\n",
              "      height: 32px;\n",
              "      padding: 0 0 0 0;\n",
              "      width: 32px;\n",
              "    }\n",
              "\n",
              "    .colab-df-convert:hover {\n",
              "      background-color: #E2EBFA;\n",
              "      box-shadow: 0px 1px 2px rgba(60, 64, 67, 0.3), 0px 1px 3px 1px rgba(60, 64, 67, 0.15);\n",
              "      fill: #174EA6;\n",
              "    }\n",
              "\n",
              "    .colab-df-buttons div {\n",
              "      margin-bottom: 4px;\n",
              "    }\n",
              "\n",
              "    [theme=dark] .colab-df-convert {\n",
              "      background-color: #3B4455;\n",
              "      fill: #D2E3FC;\n",
              "    }\n",
              "\n",
              "    [theme=dark] .colab-df-convert:hover {\n",
              "      background-color: #434B5C;\n",
              "      box-shadow: 0px 1px 3px 1px rgba(0, 0, 0, 0.15);\n",
              "      filter: drop-shadow(0px 1px 2px rgba(0, 0, 0, 0.3));\n",
              "      fill: #FFFFFF;\n",
              "    }\n",
              "  </style>\n",
              "\n",
              "    <script>\n",
              "      const buttonEl =\n",
              "        document.querySelector('#df-a670172a-d156-4a45-a9d7-77222fa2ae31 button.colab-df-convert');\n",
              "      buttonEl.style.display =\n",
              "        google.colab.kernel.accessAllowed ? 'block' : 'none';\n",
              "\n",
              "      async function convertToInteractive(key) {\n",
              "        const element = document.querySelector('#df-a670172a-d156-4a45-a9d7-77222fa2ae31');\n",
              "        const dataTable =\n",
              "          await google.colab.kernel.invokeFunction('convertToInteractive',\n",
              "                                                    [key], {});\n",
              "        if (!dataTable) return;\n",
              "\n",
              "        const docLinkHtml = 'Like what you see? Visit the ' +\n",
              "          '<a target=\"_blank\" href=https://colab.research.google.com/notebooks/data_table.ipynb>data table notebook</a>'\n",
              "          + ' to learn more about interactive tables.';\n",
              "        element.innerHTML = '';\n",
              "        dataTable['output_type'] = 'display_data';\n",
              "        await google.colab.output.renderOutput(dataTable, element);\n",
              "        const docLink = document.createElement('div');\n",
              "        docLink.innerHTML = docLinkHtml;\n",
              "        element.appendChild(docLink);\n",
              "      }\n",
              "    </script>\n",
              "  </div>\n",
              "\n",
              "\n",
              "<div id=\"df-1d3c74cb-a60d-47ad-87b7-25f88fc8d9b5\">\n",
              "  <button class=\"colab-df-quickchart\" onclick=\"quickchart('df-1d3c74cb-a60d-47ad-87b7-25f88fc8d9b5')\"\n",
              "            title=\"Suggest charts\"\n",
              "            style=\"display:none;\">\n",
              "\n",
              "<svg xmlns=\"http://www.w3.org/2000/svg\" height=\"24px\"viewBox=\"0 0 24 24\"\n",
              "     width=\"24px\">\n",
              "    <g>\n",
              "        <path d=\"M19 3H5c-1.1 0-2 .9-2 2v14c0 1.1.9 2 2 2h14c1.1 0 2-.9 2-2V5c0-1.1-.9-2-2-2zM9 17H7v-7h2v7zm4 0h-2V7h2v10zm4 0h-2v-4h2v4z\"/>\n",
              "    </g>\n",
              "</svg>\n",
              "  </button>\n",
              "\n",
              "<style>\n",
              "  .colab-df-quickchart {\n",
              "      --bg-color: #E8F0FE;\n",
              "      --fill-color: #1967D2;\n",
              "      --hover-bg-color: #E2EBFA;\n",
              "      --hover-fill-color: #174EA6;\n",
              "      --disabled-fill-color: #AAA;\n",
              "      --disabled-bg-color: #DDD;\n",
              "  }\n",
              "\n",
              "  [theme=dark] .colab-df-quickchart {\n",
              "      --bg-color: #3B4455;\n",
              "      --fill-color: #D2E3FC;\n",
              "      --hover-bg-color: #434B5C;\n",
              "      --hover-fill-color: #FFFFFF;\n",
              "      --disabled-bg-color: #3B4455;\n",
              "      --disabled-fill-color: #666;\n",
              "  }\n",
              "\n",
              "  .colab-df-quickchart {\n",
              "    background-color: var(--bg-color);\n",
              "    border: none;\n",
              "    border-radius: 50%;\n",
              "    cursor: pointer;\n",
              "    display: none;\n",
              "    fill: var(--fill-color);\n",
              "    height: 32px;\n",
              "    padding: 0;\n",
              "    width: 32px;\n",
              "  }\n",
              "\n",
              "  .colab-df-quickchart:hover {\n",
              "    background-color: var(--hover-bg-color);\n",
              "    box-shadow: 0 1px 2px rgba(60, 64, 67, 0.3), 0 1px 3px 1px rgba(60, 64, 67, 0.15);\n",
              "    fill: var(--button-hover-fill-color);\n",
              "  }\n",
              "\n",
              "  .colab-df-quickchart-complete:disabled,\n",
              "  .colab-df-quickchart-complete:disabled:hover {\n",
              "    background-color: var(--disabled-bg-color);\n",
              "    fill: var(--disabled-fill-color);\n",
              "    box-shadow: none;\n",
              "  }\n",
              "\n",
              "  .colab-df-spinner {\n",
              "    border: 2px solid var(--fill-color);\n",
              "    border-color: transparent;\n",
              "    border-bottom-color: var(--fill-color);\n",
              "    animation:\n",
              "      spin 1s steps(1) infinite;\n",
              "  }\n",
              "\n",
              "  @keyframes spin {\n",
              "    0% {\n",
              "      border-color: transparent;\n",
              "      border-bottom-color: var(--fill-color);\n",
              "      border-left-color: var(--fill-color);\n",
              "    }\n",
              "    20% {\n",
              "      border-color: transparent;\n",
              "      border-left-color: var(--fill-color);\n",
              "      border-top-color: var(--fill-color);\n",
              "    }\n",
              "    30% {\n",
              "      border-color: transparent;\n",
              "      border-left-color: var(--fill-color);\n",
              "      border-top-color: var(--fill-color);\n",
              "      border-right-color: var(--fill-color);\n",
              "    }\n",
              "    40% {\n",
              "      border-color: transparent;\n",
              "      border-right-color: var(--fill-color);\n",
              "      border-top-color: var(--fill-color);\n",
              "    }\n",
              "    60% {\n",
              "      border-color: transparent;\n",
              "      border-right-color: var(--fill-color);\n",
              "    }\n",
              "    80% {\n",
              "      border-color: transparent;\n",
              "      border-right-color: var(--fill-color);\n",
              "      border-bottom-color: var(--fill-color);\n",
              "    }\n",
              "    90% {\n",
              "      border-color: transparent;\n",
              "      border-bottom-color: var(--fill-color);\n",
              "    }\n",
              "  }\n",
              "</style>\n",
              "\n",
              "  <script>\n",
              "    async function quickchart(key) {\n",
              "      const quickchartButtonEl =\n",
              "        document.querySelector('#' + key + ' button');\n",
              "      quickchartButtonEl.disabled = true;  // To prevent multiple clicks.\n",
              "      quickchartButtonEl.classList.add('colab-df-spinner');\n",
              "      try {\n",
              "        const charts = await google.colab.kernel.invokeFunction(\n",
              "            'suggestCharts', [key], {});\n",
              "      } catch (error) {\n",
              "        console.error('Error during call to suggestCharts:', error);\n",
              "      }\n",
              "      quickchartButtonEl.classList.remove('colab-df-spinner');\n",
              "      quickchartButtonEl.classList.add('colab-df-quickchart-complete');\n",
              "    }\n",
              "    (() => {\n",
              "      let quickchartButtonEl =\n",
              "        document.querySelector('#df-1d3c74cb-a60d-47ad-87b7-25f88fc8d9b5 button');\n",
              "      quickchartButtonEl.style.display =\n",
              "        google.colab.kernel.accessAllowed ? 'block' : 'none';\n",
              "    })();\n",
              "  </script>\n",
              "</div>\n",
              "\n",
              "    </div>\n",
              "  </div>\n"
            ],
            "application/vnd.google.colaboratory.intrinsic+json": {
              "type": "dataframe",
              "summary": "{\n  \"name\": \"payment_key_max_min[selected_columns]\",\n  \"rows\": 5,\n  \"fields\": [\n    {\n      \"column\": [\n        \"payment_key\",\n        \"\"\n      ],\n      \"properties\": {\n        \"dtype\": \"string\",\n        \"num_unique_values\": 5,\n        \"samples\": [\n          \"P002\",\n          \"P005\",\n          \"P003\"\n        ],\n        \"semantic_type\": \"\",\n        \"description\": \"\"\n      }\n    },\n    {\n      \"column\": [\n        \"unit_price\",\n        \"min\"\n      ],\n      \"properties\": {\n        \"dtype\": \"number\",\n        \"std\": 0.33541019662496846,\n        \"min\": 6.0,\n        \"max\": 6.75,\n        \"num_unique_values\": 2,\n        \"samples\": [\n          6.75,\n          6.0\n        ],\n        \"semantic_type\": \"\",\n        \"description\": \"\"\n      }\n    },\n    {\n      \"column\": [\n        \"unit_price\",\n        \"max\"\n      ],\n      \"properties\": {\n        \"dtype\": \"number\",\n        \"std\": 3.8340579025361627,\n        \"min\": 48.0,\n        \"max\": 55.0,\n        \"num_unique_values\": 2,\n        \"samples\": [\n          55.0,\n          48.0\n        ],\n        \"semantic_type\": \"\",\n        \"description\": \"\"\n      }\n    },\n    {\n      \"column\": [\n        \"total_price\",\n        \"min\"\n      ],\n      \"properties\": {\n        \"dtype\": \"number\",\n        \"std\": 0.7202430145443967,\n        \"min\": 6.0,\n        \"max\": 8.0,\n        \"num_unique_values\": 3,\n        \"samples\": [\n          6.0,\n          8.0\n        ],\n        \"semantic_type\": \"\",\n        \"description\": \"\"\n      }\n    },\n    {\n      \"column\": [\n        \"total_price\",\n        \"max\"\n      ],\n      \"properties\": {\n        \"dtype\": \"number\",\n        \"std\": 41.6329196670135,\n        \"min\": 506.0,\n        \"max\": 605.0,\n        \"num_unique_values\": 5,\n        \"samples\": [\n          605.0,\n          530.0\n        ],\n        \"semantic_type\": \"\",\n        \"description\": \"\"\n      }\n    }\n  ]\n}"
            }
          },
          "metadata": {},
          "execution_count": 11
        }
      ]
    },
    {
      "cell_type": "markdown",
      "source": [
        "##Groupby & multiple aggregations over different columns"
      ],
      "metadata": {
        "id": "nBVxTATpJfOM"
      }
    },
    {
      "cell_type": "code",
      "source": [
        "payment_coustermer_key =fact_table.groupby(['payment_key', 'coustomer_key']).aggregate({'quantity':'sum','unit_price':['min','max']}).reset_index()\n",
        "payment_coustermer_key"
      ],
      "metadata": {
        "colab": {
          "base_uri": "https://localhost:8080/",
          "height": 455
        },
        "id": "aWCMNSkMJemF",
        "outputId": "eba7db83-adb5-4511-d850-9a5100951fdd"
      },
      "execution_count": null,
      "outputs": [
        {
          "output_type": "execute_result",
          "data": {
            "text/plain": [
              "     payment_key coustomer_key quantity unit_price       \n",
              "                                    sum        min    max\n",
              "0           P001       C000005      4.0      14.00  14.00\n",
              "1           P001       C000020     11.0      20.00  20.00\n",
              "2           P001       C000045      5.0      16.00  16.00\n",
              "3           P001       C000073      1.0       6.00   6.00\n",
              "4           P001       C000091      1.0      20.00  20.00\n",
              "...          ...           ...      ...        ...    ...\n",
              "9847        P039       C009120      4.0       6.75   6.75\n",
              "9848        P039       C009127      6.0      15.00  15.00\n",
              "9849        P039       C009132      4.0      24.00  24.00\n",
              "9850        P039       C009156     10.0      11.00  11.00\n",
              "9851        P039       C009167      8.0      11.50  11.50\n",
              "\n",
              "[9852 rows x 5 columns]"
            ],
            "text/html": [
              "\n",
              "  <div id=\"df-eb95651c-63ef-4cf6-8b72-9a0d93821f8f\" class=\"colab-df-container\">\n",
              "    <div>\n",
              "<style scoped>\n",
              "    .dataframe tbody tr th:only-of-type {\n",
              "        vertical-align: middle;\n",
              "    }\n",
              "\n",
              "    .dataframe tbody tr th {\n",
              "        vertical-align: top;\n",
              "    }\n",
              "\n",
              "    .dataframe thead tr th {\n",
              "        text-align: left;\n",
              "    }\n",
              "</style>\n",
              "<table border=\"1\" class=\"dataframe\">\n",
              "  <thead>\n",
              "    <tr>\n",
              "      <th></th>\n",
              "      <th>payment_key</th>\n",
              "      <th>coustomer_key</th>\n",
              "      <th>quantity</th>\n",
              "      <th colspan=\"2\" halign=\"left\">unit_price</th>\n",
              "    </tr>\n",
              "    <tr>\n",
              "      <th></th>\n",
              "      <th></th>\n",
              "      <th></th>\n",
              "      <th>sum</th>\n",
              "      <th>min</th>\n",
              "      <th>max</th>\n",
              "    </tr>\n",
              "  </thead>\n",
              "  <tbody>\n",
              "    <tr>\n",
              "      <th>0</th>\n",
              "      <td>P001</td>\n",
              "      <td>C000005</td>\n",
              "      <td>4.0</td>\n",
              "      <td>14.00</td>\n",
              "      <td>14.00</td>\n",
              "    </tr>\n",
              "    <tr>\n",
              "      <th>1</th>\n",
              "      <td>P001</td>\n",
              "      <td>C000020</td>\n",
              "      <td>11.0</td>\n",
              "      <td>20.00</td>\n",
              "      <td>20.00</td>\n",
              "    </tr>\n",
              "    <tr>\n",
              "      <th>2</th>\n",
              "      <td>P001</td>\n",
              "      <td>C000045</td>\n",
              "      <td>5.0</td>\n",
              "      <td>16.00</td>\n",
              "      <td>16.00</td>\n",
              "    </tr>\n",
              "    <tr>\n",
              "      <th>3</th>\n",
              "      <td>P001</td>\n",
              "      <td>C000073</td>\n",
              "      <td>1.0</td>\n",
              "      <td>6.00</td>\n",
              "      <td>6.00</td>\n",
              "    </tr>\n",
              "    <tr>\n",
              "      <th>4</th>\n",
              "      <td>P001</td>\n",
              "      <td>C000091</td>\n",
              "      <td>1.0</td>\n",
              "      <td>20.00</td>\n",
              "      <td>20.00</td>\n",
              "    </tr>\n",
              "    <tr>\n",
              "      <th>...</th>\n",
              "      <td>...</td>\n",
              "      <td>...</td>\n",
              "      <td>...</td>\n",
              "      <td>...</td>\n",
              "      <td>...</td>\n",
              "    </tr>\n",
              "    <tr>\n",
              "      <th>9847</th>\n",
              "      <td>P039</td>\n",
              "      <td>C009120</td>\n",
              "      <td>4.0</td>\n",
              "      <td>6.75</td>\n",
              "      <td>6.75</td>\n",
              "    </tr>\n",
              "    <tr>\n",
              "      <th>9848</th>\n",
              "      <td>P039</td>\n",
              "      <td>C009127</td>\n",
              "      <td>6.0</td>\n",
              "      <td>15.00</td>\n",
              "      <td>15.00</td>\n",
              "    </tr>\n",
              "    <tr>\n",
              "      <th>9849</th>\n",
              "      <td>P039</td>\n",
              "      <td>C009132</td>\n",
              "      <td>4.0</td>\n",
              "      <td>24.00</td>\n",
              "      <td>24.00</td>\n",
              "    </tr>\n",
              "    <tr>\n",
              "      <th>9850</th>\n",
              "      <td>P039</td>\n",
              "      <td>C009156</td>\n",
              "      <td>10.0</td>\n",
              "      <td>11.00</td>\n",
              "      <td>11.00</td>\n",
              "    </tr>\n",
              "    <tr>\n",
              "      <th>9851</th>\n",
              "      <td>P039</td>\n",
              "      <td>C009167</td>\n",
              "      <td>8.0</td>\n",
              "      <td>11.50</td>\n",
              "      <td>11.50</td>\n",
              "    </tr>\n",
              "  </tbody>\n",
              "</table>\n",
              "<p>9852 rows × 5 columns</p>\n",
              "</div>\n",
              "    <div class=\"colab-df-buttons\">\n",
              "\n",
              "  <div class=\"colab-df-container\">\n",
              "    <button class=\"colab-df-convert\" onclick=\"convertToInteractive('df-eb95651c-63ef-4cf6-8b72-9a0d93821f8f')\"\n",
              "            title=\"Convert this dataframe to an interactive table.\"\n",
              "            style=\"display:none;\">\n",
              "\n",
              "  <svg xmlns=\"http://www.w3.org/2000/svg\" height=\"24px\" viewBox=\"0 -960 960 960\">\n",
              "    <path d=\"M120-120v-720h720v720H120Zm60-500h600v-160H180v160Zm220 220h160v-160H400v160Zm0 220h160v-160H400v160ZM180-400h160v-160H180v160Zm440 0h160v-160H620v160ZM180-180h160v-160H180v160Zm440 0h160v-160H620v160Z\"/>\n",
              "  </svg>\n",
              "    </button>\n",
              "\n",
              "  <style>\n",
              "    .colab-df-container {\n",
              "      display:flex;\n",
              "      gap: 12px;\n",
              "    }\n",
              "\n",
              "    .colab-df-convert {\n",
              "      background-color: #E8F0FE;\n",
              "      border: none;\n",
              "      border-radius: 50%;\n",
              "      cursor: pointer;\n",
              "      display: none;\n",
              "      fill: #1967D2;\n",
              "      height: 32px;\n",
              "      padding: 0 0 0 0;\n",
              "      width: 32px;\n",
              "    }\n",
              "\n",
              "    .colab-df-convert:hover {\n",
              "      background-color: #E2EBFA;\n",
              "      box-shadow: 0px 1px 2px rgba(60, 64, 67, 0.3), 0px 1px 3px 1px rgba(60, 64, 67, 0.15);\n",
              "      fill: #174EA6;\n",
              "    }\n",
              "\n",
              "    .colab-df-buttons div {\n",
              "      margin-bottom: 4px;\n",
              "    }\n",
              "\n",
              "    [theme=dark] .colab-df-convert {\n",
              "      background-color: #3B4455;\n",
              "      fill: #D2E3FC;\n",
              "    }\n",
              "\n",
              "    [theme=dark] .colab-df-convert:hover {\n",
              "      background-color: #434B5C;\n",
              "      box-shadow: 0px 1px 3px 1px rgba(0, 0, 0, 0.15);\n",
              "      filter: drop-shadow(0px 1px 2px rgba(0, 0, 0, 0.3));\n",
              "      fill: #FFFFFF;\n",
              "    }\n",
              "  </style>\n",
              "\n",
              "    <script>\n",
              "      const buttonEl =\n",
              "        document.querySelector('#df-eb95651c-63ef-4cf6-8b72-9a0d93821f8f button.colab-df-convert');\n",
              "      buttonEl.style.display =\n",
              "        google.colab.kernel.accessAllowed ? 'block' : 'none';\n",
              "\n",
              "      async function convertToInteractive(key) {\n",
              "        const element = document.querySelector('#df-eb95651c-63ef-4cf6-8b72-9a0d93821f8f');\n",
              "        const dataTable =\n",
              "          await google.colab.kernel.invokeFunction('convertToInteractive',\n",
              "                                                    [key], {});\n",
              "        if (!dataTable) return;\n",
              "\n",
              "        const docLinkHtml = 'Like what you see? Visit the ' +\n",
              "          '<a target=\"_blank\" href=https://colab.research.google.com/notebooks/data_table.ipynb>data table notebook</a>'\n",
              "          + ' to learn more about interactive tables.';\n",
              "        element.innerHTML = '';\n",
              "        dataTable['output_type'] = 'display_data';\n",
              "        await google.colab.output.renderOutput(dataTable, element);\n",
              "        const docLink = document.createElement('div');\n",
              "        docLink.innerHTML = docLinkHtml;\n",
              "        element.appendChild(docLink);\n",
              "      }\n",
              "    </script>\n",
              "  </div>\n",
              "\n",
              "\n",
              "<div id=\"df-8ac981d8-785f-429c-8cde-00e22164f435\">\n",
              "  <button class=\"colab-df-quickchart\" onclick=\"quickchart('df-8ac981d8-785f-429c-8cde-00e22164f435')\"\n",
              "            title=\"Suggest charts\"\n",
              "            style=\"display:none;\">\n",
              "\n",
              "<svg xmlns=\"http://www.w3.org/2000/svg\" height=\"24px\"viewBox=\"0 0 24 24\"\n",
              "     width=\"24px\">\n",
              "    <g>\n",
              "        <path d=\"M19 3H5c-1.1 0-2 .9-2 2v14c0 1.1.9 2 2 2h14c1.1 0 2-.9 2-2V5c0-1.1-.9-2-2-2zM9 17H7v-7h2v7zm4 0h-2V7h2v10zm4 0h-2v-4h2v4z\"/>\n",
              "    </g>\n",
              "</svg>\n",
              "  </button>\n",
              "\n",
              "<style>\n",
              "  .colab-df-quickchart {\n",
              "      --bg-color: #E8F0FE;\n",
              "      --fill-color: #1967D2;\n",
              "      --hover-bg-color: #E2EBFA;\n",
              "      --hover-fill-color: #174EA6;\n",
              "      --disabled-fill-color: #AAA;\n",
              "      --disabled-bg-color: #DDD;\n",
              "  }\n",
              "\n",
              "  [theme=dark] .colab-df-quickchart {\n",
              "      --bg-color: #3B4455;\n",
              "      --fill-color: #D2E3FC;\n",
              "      --hover-bg-color: #434B5C;\n",
              "      --hover-fill-color: #FFFFFF;\n",
              "      --disabled-bg-color: #3B4455;\n",
              "      --disabled-fill-color: #666;\n",
              "  }\n",
              "\n",
              "  .colab-df-quickchart {\n",
              "    background-color: var(--bg-color);\n",
              "    border: none;\n",
              "    border-radius: 50%;\n",
              "    cursor: pointer;\n",
              "    display: none;\n",
              "    fill: var(--fill-color);\n",
              "    height: 32px;\n",
              "    padding: 0;\n",
              "    width: 32px;\n",
              "  }\n",
              "\n",
              "  .colab-df-quickchart:hover {\n",
              "    background-color: var(--hover-bg-color);\n",
              "    box-shadow: 0 1px 2px rgba(60, 64, 67, 0.3), 0 1px 3px 1px rgba(60, 64, 67, 0.15);\n",
              "    fill: var(--button-hover-fill-color);\n",
              "  }\n",
              "\n",
              "  .colab-df-quickchart-complete:disabled,\n",
              "  .colab-df-quickchart-complete:disabled:hover {\n",
              "    background-color: var(--disabled-bg-color);\n",
              "    fill: var(--disabled-fill-color);\n",
              "    box-shadow: none;\n",
              "  }\n",
              "\n",
              "  .colab-df-spinner {\n",
              "    border: 2px solid var(--fill-color);\n",
              "    border-color: transparent;\n",
              "    border-bottom-color: var(--fill-color);\n",
              "    animation:\n",
              "      spin 1s steps(1) infinite;\n",
              "  }\n",
              "\n",
              "  @keyframes spin {\n",
              "    0% {\n",
              "      border-color: transparent;\n",
              "      border-bottom-color: var(--fill-color);\n",
              "      border-left-color: var(--fill-color);\n",
              "    }\n",
              "    20% {\n",
              "      border-color: transparent;\n",
              "      border-left-color: var(--fill-color);\n",
              "      border-top-color: var(--fill-color);\n",
              "    }\n",
              "    30% {\n",
              "      border-color: transparent;\n",
              "      border-left-color: var(--fill-color);\n",
              "      border-top-color: var(--fill-color);\n",
              "      border-right-color: var(--fill-color);\n",
              "    }\n",
              "    40% {\n",
              "      border-color: transparent;\n",
              "      border-right-color: var(--fill-color);\n",
              "      border-top-color: var(--fill-color);\n",
              "    }\n",
              "    60% {\n",
              "      border-color: transparent;\n",
              "      border-right-color: var(--fill-color);\n",
              "    }\n",
              "    80% {\n",
              "      border-color: transparent;\n",
              "      border-right-color: var(--fill-color);\n",
              "      border-bottom-color: var(--fill-color);\n",
              "    }\n",
              "    90% {\n",
              "      border-color: transparent;\n",
              "      border-bottom-color: var(--fill-color);\n",
              "    }\n",
              "  }\n",
              "</style>\n",
              "\n",
              "  <script>\n",
              "    async function quickchart(key) {\n",
              "      const quickchartButtonEl =\n",
              "        document.querySelector('#' + key + ' button');\n",
              "      quickchartButtonEl.disabled = true;  // To prevent multiple clicks.\n",
              "      quickchartButtonEl.classList.add('colab-df-spinner');\n",
              "      try {\n",
              "        const charts = await google.colab.kernel.invokeFunction(\n",
              "            'suggestCharts', [key], {});\n",
              "      } catch (error) {\n",
              "        console.error('Error during call to suggestCharts:', error);\n",
              "      }\n",
              "      quickchartButtonEl.classList.remove('colab-df-spinner');\n",
              "      quickchartButtonEl.classList.add('colab-df-quickchart-complete');\n",
              "    }\n",
              "    (() => {\n",
              "      let quickchartButtonEl =\n",
              "        document.querySelector('#df-8ac981d8-785f-429c-8cde-00e22164f435 button');\n",
              "      quickchartButtonEl.style.display =\n",
              "        google.colab.kernel.accessAllowed ? 'block' : 'none';\n",
              "    })();\n",
              "  </script>\n",
              "</div>\n",
              "\n",
              "  <div id=\"id_74edbb19-4e89-460f-a5fe-89e726b40903\">\n",
              "    <style>\n",
              "      .colab-df-generate {\n",
              "        background-color: #E8F0FE;\n",
              "        border: none;\n",
              "        border-radius: 50%;\n",
              "        cursor: pointer;\n",
              "        display: none;\n",
              "        fill: #1967D2;\n",
              "        height: 32px;\n",
              "        padding: 0 0 0 0;\n",
              "        width: 32px;\n",
              "      }\n",
              "\n",
              "      .colab-df-generate:hover {\n",
              "        background-color: #E2EBFA;\n",
              "        box-shadow: 0px 1px 2px rgba(60, 64, 67, 0.3), 0px 1px 3px 1px rgba(60, 64, 67, 0.15);\n",
              "        fill: #174EA6;\n",
              "      }\n",
              "\n",
              "      [theme=dark] .colab-df-generate {\n",
              "        background-color: #3B4455;\n",
              "        fill: #D2E3FC;\n",
              "      }\n",
              "\n",
              "      [theme=dark] .colab-df-generate:hover {\n",
              "        background-color: #434B5C;\n",
              "        box-shadow: 0px 1px 3px 1px rgba(0, 0, 0, 0.15);\n",
              "        filter: drop-shadow(0px 1px 2px rgba(0, 0, 0, 0.3));\n",
              "        fill: #FFFFFF;\n",
              "      }\n",
              "    </style>\n",
              "    <button class=\"colab-df-generate\" onclick=\"generateWithVariable('payment_coustermer_key')\"\n",
              "            title=\"Generate code using this dataframe.\"\n",
              "            style=\"display:none;\">\n",
              "\n",
              "  <svg xmlns=\"http://www.w3.org/2000/svg\" height=\"24px\"viewBox=\"0 0 24 24\"\n",
              "       width=\"24px\">\n",
              "    <path d=\"M7,19H8.4L18.45,9,17,7.55,7,17.6ZM5,21V16.75L18.45,3.32a2,2,0,0,1,2.83,0l1.4,1.43a1.91,1.91,0,0,1,.58,1.4,1.91,1.91,0,0,1-.58,1.4L9.25,21ZM18.45,9,17,7.55Zm-12,3A5.31,5.31,0,0,0,4.9,8.1,5.31,5.31,0,0,0,1,6.5,5.31,5.31,0,0,0,4.9,4.9,5.31,5.31,0,0,0,6.5,1,5.31,5.31,0,0,0,8.1,4.9,5.31,5.31,0,0,0,12,6.5,5.46,5.46,0,0,0,6.5,12Z\"/>\n",
              "  </svg>\n",
              "    </button>\n",
              "    <script>\n",
              "      (() => {\n",
              "      const buttonEl =\n",
              "        document.querySelector('#id_74edbb19-4e89-460f-a5fe-89e726b40903 button.colab-df-generate');\n",
              "      buttonEl.style.display =\n",
              "        google.colab.kernel.accessAllowed ? 'block' : 'none';\n",
              "\n",
              "      buttonEl.onclick = () => {\n",
              "        google.colab.notebook.generateWithVariable('payment_coustermer_key');\n",
              "      }\n",
              "      })();\n",
              "    </script>\n",
              "  </div>\n",
              "\n",
              "    </div>\n",
              "  </div>\n"
            ],
            "application/vnd.google.colaboratory.intrinsic+json": {
              "type": "dataframe",
              "variable_name": "payment_coustermer_key",
              "summary": "{\n  \"name\": \"payment_coustermer_key\",\n  \"rows\": 9852,\n  \"fields\": [\n    {\n      \"column\": [\n        \"payment_key\",\n        \"\"\n      ],\n      \"properties\": {\n        \"dtype\": \"category\",\n        \"num_unique_values\": 39,\n        \"samples\": [\n          \"P034\",\n          \"P037\",\n          \"P005\"\n        ],\n        \"semantic_type\": \"\",\n        \"description\": \"\"\n      }\n    },\n    {\n      \"column\": [\n        \"coustomer_key\",\n        \"\"\n      ],\n      \"properties\": {\n        \"dtype\": \"string\",\n        \"num_unique_values\": 6078,\n        \"samples\": [\n          \"C008599\",\n          \"C001425\",\n          \"C003490\"\n        ],\n        \"semantic_type\": \"\",\n        \"description\": \"\"\n      }\n    },\n    {\n      \"column\": [\n        \"quantity\",\n        \"sum\"\n      ],\n      \"properties\": {\n        \"dtype\": \"number\",\n        \"std\": 3.2630596487195542,\n        \"min\": 1.0,\n        \"max\": 22.0,\n        \"num_unique_values\": 22,\n        \"samples\": [\n          4.0,\n          16.0,\n          3.0\n        ],\n        \"semantic_type\": \"\",\n        \"description\": \"\"\n      }\n    },\n    {\n      \"column\": [\n        \"unit_price\",\n        \"min\"\n      ],\n      \"properties\": {\n        \"dtype\": \"number\",\n        \"std\": 8.48525199384213,\n        \"min\": 6.0,\n        \"max\": 55.0,\n        \"num_unique_values\": 46,\n        \"samples\": [\n          29.0,\n          8.0,\n          40.0\n        ],\n        \"semantic_type\": \"\",\n        \"description\": \"\"\n      }\n    },\n    {\n      \"column\": [\n        \"unit_price\",\n        \"max\"\n      ],\n      \"properties\": {\n        \"dtype\": \"number\",\n        \"std\": 8.558814858652484,\n        \"min\": 6.0,\n        \"max\": 55.0,\n        \"num_unique_values\": 46,\n        \"samples\": [\n          29.0,\n          8.0,\n          40.0\n        ],\n        \"semantic_type\": \"\",\n        \"description\": \"\"\n      }\n    }\n  ]\n}"
            }
          },
          "metadata": {},
          "execution_count": 12
        }
      ]
    },
    {
      "cell_type": "markdown",
      "source": [
        "#Merge Dataframe"
      ],
      "metadata": {
        "id": "iPm2hfqfqVFW"
      }
    },
    {
      "cell_type": "markdown",
      "source": [
        "##Merge Two Tables"
      ],
      "metadata": {
        "id": "d2EGPxnjqZVV"
      }
    },
    {
      "cell_type": "code",
      "source": [
        "fact_table_trans_dim=fact_table.merge(trans_dim)"
      ],
      "metadata": {
        "id": "Y8JNggDkqfD1"
      },
      "execution_count": null,
      "outputs": []
    },
    {
      "cell_type": "markdown",
      "source": [
        "##Merge Two Tables based on a key"
      ],
      "metadata": {
        "id": "mSsSevMNriP-"
      }
    },
    {
      "cell_type": "code",
      "source": [
        "fact_table_store_dim=pd.merge(fact_table,store_dim,on='store_key')"
      ],
      "metadata": {
        "id": "QM1ILWScrmNW"
      },
      "execution_count": null,
      "outputs": []
    }
  ]
}