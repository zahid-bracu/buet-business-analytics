{
  "nbformat": 4,
  "nbformat_minor": 0,
  "metadata": {
    "colab": {
      "provenance": [],
      "authorship_tag": "ABX9TyNfImM6dCmSP9W775Cjn0TD",
      "include_colab_link": true
    },
    "kernelspec": {
      "name": "python3",
      "display_name": "Python 3"
    },
    "language_info": {
      "name": "python"
    }
  },
  "cells": [
    {
      "cell_type": "markdown",
      "metadata": {
        "id": "view-in-github",
        "colab_type": "text"
      },
      "source": [
        "<a href=\"https://colab.research.google.com/github/zahid-bracu/buet-iac-business-analytics/blob/main/Lecture_4_Numpy_Array.ipynb\" target=\"_parent\"><img src=\"https://colab.research.google.com/assets/colab-badge.svg\" alt=\"Open In Colab\"/></a>"
      ]
    },
    {
      "cell_type": "markdown",
      "source": [
        "Docs Index : https://docs.google.com/document/d/1Md0-O4CKjvpYbzzFP7dyooB0eJP2G5tAj4YUnQ2QWdo/edit?usp=sharing"
      ],
      "metadata": {
        "id": "S05QpEv9zvEq"
      }
    },
    {
      "cell_type": "markdown",
      "source": [
        "####Import numpy and version check"
      ],
      "metadata": {
        "id": "w_1_2uq1Wqko"
      }
    },
    {
      "cell_type": "code",
      "execution_count": 16,
      "metadata": {
        "colab": {
          "base_uri": "https://localhost:8080/"
        },
        "id": "uEjb13U_VK6e",
        "outputId": "1b053711-3efc-4a06-93d0-b8e96dc6f38e"
      },
      "outputs": [
        {
          "output_type": "stream",
          "name": "stdout",
          "text": [
            "1.25.2\n"
          ]
        }
      ],
      "source": [
        "import numpy as np\n",
        "print(np.__version__)"
      ]
    },
    {
      "cell_type": "markdown",
      "source": [
        "####Creating Simple Array"
      ],
      "metadata": {
        "id": "9g8t-yFGWx8A"
      }
    },
    {
      "cell_type": "code",
      "source": [
        "a=[[11,22,33],[44,55,66],[77,88,99]]\n",
        "b=[[111,222],[444,555],[777,888]]\n",
        "print(a)\n",
        "print(b)\n",
        "print(a+b) #adding two simple array"
      ],
      "metadata": {
        "colab": {
          "base_uri": "https://localhost:8080/"
        },
        "id": "WN41p4rKW11f",
        "outputId": "6cb0a4ae-cbda-4a11-d0d8-76ee0ed56edf"
      },
      "execution_count": 17,
      "outputs": [
        {
          "output_type": "stream",
          "name": "stdout",
          "text": [
            "[[11, 22, 33], [44, 55, 66], [77, 88, 99]]\n",
            "[[111, 222], [444, 555], [777, 888]]\n",
            "[[11, 22, 33], [44, 55, 66], [77, 88, 99], [111, 222], [444, 555], [777, 888]]\n"
          ]
        }
      ]
    },
    {
      "cell_type": "markdown",
      "source": [
        "####Creating Numpy Array"
      ],
      "metadata": {
        "id": "kvK4qRu3XHy3"
      }
    },
    {
      "cell_type": "code",
      "source": [
        "a=np.array([[11,22,33],[44,55,66]])\n",
        "b=np.array([[111,222,999],[333,444,888]])\n",
        "print(a)\n",
        "print(b)\n"
      ],
      "metadata": {
        "colab": {
          "base_uri": "https://localhost:8080/"
        },
        "id": "2LEA7BjlXLhw",
        "outputId": "4a644fb3-e7cd-4c90-acf4-661c469830da"
      },
      "execution_count": 18,
      "outputs": [
        {
          "output_type": "stream",
          "name": "stdout",
          "text": [
            "[[11 22 33]\n",
            " [44 55 66]]\n",
            "[[111 222 999]\n",
            " [333 444 888]]\n"
          ]
        }
      ]
    },
    {
      "cell_type": "code",
      "source": [
        "c=a+b #adding two numpy array\n",
        "print(c)"
      ],
      "metadata": {
        "colab": {
          "base_uri": "https://localhost:8080/"
        },
        "id": "fEdjmJrTglc8",
        "outputId": "911a4890-16b3-4f2a-9fc0-d677774de0e8"
      },
      "execution_count": 19,
      "outputs": [
        {
          "output_type": "stream",
          "name": "stdout",
          "text": [
            "[[ 122  244 1032]\n",
            " [ 377  499  954]]\n"
          ]
        }
      ]
    },
    {
      "cell_type": "code",
      "source": [
        "d=c*10 #multiply with 10\n",
        "print(d)"
      ],
      "metadata": {
        "colab": {
          "base_uri": "https://localhost:8080/"
        },
        "id": "_y1uilUFgqJZ",
        "outputId": "7b5c6fad-7596-491c-b6b3-765d74f63023"
      },
      "execution_count": 20,
      "outputs": [
        {
          "output_type": "stream",
          "name": "stdout",
          "text": [
            "[[ 1220  2440 10320]\n",
            " [ 3770  4990  9540]]\n"
          ]
        }
      ]
    },
    {
      "cell_type": "markdown",
      "source": [
        "####Idientity Matrix creation"
      ],
      "metadata": {
        "id": "HVGhcPTfgbek"
      }
    },
    {
      "cell_type": "code",
      "source": [
        "id=np.eye(2)\n",
        "print(id)"
      ],
      "metadata": {
        "colab": {
          "base_uri": "https://localhost:8080/"
        },
        "id": "4OycCpeii0ky",
        "outputId": "969b3b42-2fdd-4c84-aeec-f13330cbfafc"
      },
      "execution_count": 21,
      "outputs": [
        {
          "output_type": "stream",
          "name": "stdout",
          "text": [
            "[[1. 0.]\n",
            " [0. 1.]]\n"
          ]
        }
      ]
    }
  ]
}