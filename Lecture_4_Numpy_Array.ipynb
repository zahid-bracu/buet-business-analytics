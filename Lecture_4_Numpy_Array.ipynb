{
  "nbformat": 4,
  "nbformat_minor": 0,
  "metadata": {
    "colab": {
      "provenance": [],
      "authorship_tag": "ABX9TyMZfzU5JBfXWBuC0UxxUS+e",
      "include_colab_link": true
    },
    "kernelspec": {
      "name": "python3",
      "display_name": "Python 3"
    },
    "language_info": {
      "name": "python"
    }
  },
  "cells": [
    {
      "cell_type": "markdown",
      "metadata": {
        "id": "view-in-github",
        "colab_type": "text"
      },
      "source": [
        "<a href=\"https://colab.research.google.com/github/zahid-bracu/buet-business-analytics/blob/main/Lecture_4_Numpy_Array.ipynb\" target=\"_parent\"><img src=\"https://colab.research.google.com/assets/colab-badge.svg\" alt=\"Open In Colab\"/></a>"
      ]
    },
    {
      "cell_type": "markdown",
      "source": [
        "Docs Index : https://docs.google.com/document/d/1Md0-O4CKjvpYbzzFP7dyooB0eJP2G5tAj4YUnQ2QWdo/edit?usp=sharing"
      ],
      "metadata": {
        "id": "S05QpEv9zvEq"
      }
    },
    {
      "cell_type": "markdown",
      "source": [
        "####Import numpy and version check"
      ],
      "metadata": {
        "id": "w_1_2uq1Wqko"
      }
    },
    {
      "cell_type": "code",
      "execution_count": 1,
      "metadata": {
        "colab": {
          "base_uri": "https://localhost:8080/"
        },
        "id": "uEjb13U_VK6e",
        "outputId": "eb6b71a9-b9be-4d17-8650-2d084ebd7fc5"
      },
      "outputs": [
        {
          "output_type": "stream",
          "name": "stdout",
          "text": [
            "1.25.2\n"
          ]
        }
      ],
      "source": [
        "import numpy as np\n",
        "print(np.__version__)"
      ]
    },
    {
      "cell_type": "markdown",
      "source": [
        "####Creating Numpy Array From List"
      ],
      "metadata": {
        "id": "S4wuL2Lrf_0p"
      }
    },
    {
      "cell_type": "code",
      "source": [
        "my_list=[1.1,2.2,3.3,4.4,5.5,6.6,7.7,8.8,9.9]\n",
        "my_list=[[1.1,2.2,3.3],[4.4,5.5,6.6],[7.7,8.8,9.9]]\n",
        "my_array=np.array(my_list,dtype=float)\n",
        "print(my_array)"
      ],
      "metadata": {
        "colab": {
          "base_uri": "https://localhost:8080/"
        },
        "id": "j4fBhQzbfcxC",
        "outputId": "cf23e0b0-7310-4e33-81ab-76988c877ea2"
      },
      "execution_count": 5,
      "outputs": [
        {
          "output_type": "stream",
          "name": "stdout",
          "text": [
            "[[1.1 2.2 3.3]\n",
            " [4.4 5.5 6.6]\n",
            " [7.7 8.8 9.9]]\n"
          ]
        }
      ]
    },
    {
      "cell_type": "markdown",
      "source": [
        "####Creating Numpy Array From Tuple"
      ],
      "metadata": {
        "id": "njCAnM8RgDGx"
      }
    },
    {
      "cell_type": "code",
      "source": [
        "my_tuple=((11,22,33),(44,55,66),(77,88,99))\n",
        "my_np_array=np.array(my_tuple)\n",
        "print(my_np_array)"
      ],
      "metadata": {
        "colab": {
          "base_uri": "https://localhost:8080/"
        },
        "id": "2cw1K6o-f8AJ",
        "outputId": "ee157233-b627-4f44-a0ec-ed07b38b7a5a"
      },
      "execution_count": 7,
      "outputs": [
        {
          "output_type": "stream",
          "name": "stdout",
          "text": [
            "[[11 22 33]\n",
            " [44 55 66]\n",
            " [77 88 99]]\n"
          ]
        }
      ]
    },
    {
      "cell_type": "markdown",
      "source": [
        "####Generating arrays with specific values : Zeros\n",
        "* 3 : Rows\n",
        "* 4 : Columns"
      ],
      "metadata": {
        "id": "QYC90rJglLKv"
      }
    },
    {
      "cell_type": "code",
      "source": [
        "zeros_array_int=np.zeros((3,4),dtype=float)\n",
        "zeros_array_int"
      ],
      "metadata": {
        "colab": {
          "base_uri": "https://localhost:8080/"
        },
        "id": "2EOwwTtFlOvX",
        "outputId": "018b5f7b-8742-435b-e803-ea62ef55f5e0"
      },
      "execution_count": 10,
      "outputs": [
        {
          "output_type": "execute_result",
          "data": {
            "text/plain": [
              "array([[0., 0., 0., 0.],\n",
              "       [0., 0., 0., 0.],\n",
              "       [0., 0., 0., 0.]])"
            ]
          },
          "metadata": {},
          "execution_count": 10
        }
      ]
    },
    {
      "cell_type": "markdown",
      "source": [
        "####Generating arrays with specific values : Ones"
      ],
      "metadata": {
        "id": "ls8_c21xls7o"
      }
    },
    {
      "cell_type": "code",
      "source": [
        "ones_array_int=np.ones((3,4),dtype=float)\n",
        "ones_array_int"
      ],
      "metadata": {
        "colab": {
          "base_uri": "https://localhost:8080/"
        },
        "id": "df_hux1MmAWW",
        "outputId": "ff5c08a4-fe7e-4f56-aec5-94dfe4fe0121"
      },
      "execution_count": 11,
      "outputs": [
        {
          "output_type": "execute_result",
          "data": {
            "text/plain": [
              "array([[1., 1., 1., 1.],\n",
              "       [1., 1., 1., 1.],\n",
              "       [1., 1., 1., 1.]])"
            ]
          },
          "metadata": {},
          "execution_count": 11
        }
      ]
    },
    {
      "cell_type": "markdown",
      "source": [
        "####Generating arrays with Random Numbers"
      ],
      "metadata": {
        "id": "fxP1c3LLmakv"
      }
    },
    {
      "cell_type": "code",
      "source": [
        "random_array_int=np.random.randint(10,21,size=(3,4))\n",
        "random_array_int"
      ],
      "metadata": {
        "colab": {
          "base_uri": "https://localhost:8080/"
        },
        "id": "3GCQkNq7mfNX",
        "outputId": "ad94e186-1cd8-438f-dc14-2bdfdf0a31e3"
      },
      "execution_count": 14,
      "outputs": [
        {
          "output_type": "execute_result",
          "data": {
            "text/plain": [
              "array([[10, 16, 12, 11],\n",
              "       [11, 16, 19, 16],\n",
              "       [10, 15, 12, 13]])"
            ]
          },
          "metadata": {},
          "execution_count": 14
        }
      ]
    },
    {
      "cell_type": "markdown",
      "source": [
        "####Generating arrays with Specific Number"
      ],
      "metadata": {
        "id": "DGEEuu1boYtu"
      }
    },
    {
      "cell_type": "code",
      "source": [
        "custom_array=np.full((3,4),7)\n",
        "custom_array"
      ],
      "metadata": {
        "colab": {
          "base_uri": "https://localhost:8080/"
        },
        "id": "BSE9wmkhocVm",
        "outputId": "6aa5ad82-67be-438a-9a45-e230743f7787"
      },
      "execution_count": 15,
      "outputs": [
        {
          "output_type": "execute_result",
          "data": {
            "text/plain": [
              "array([[7, 7, 7, 7],\n",
              "       [7, 7, 7, 7],\n",
              "       [7, 7, 7, 7]])"
            ]
          },
          "metadata": {},
          "execution_count": 15
        }
      ]
    }
  ]
}