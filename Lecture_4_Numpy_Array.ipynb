{
  "nbformat": 4,
  "nbformat_minor": 0,
  "metadata": {
    "colab": {
      "provenance": [],
      "authorship_tag": "ABX9TyOULrKzImDlHHtKW+Dn2c8p",
      "include_colab_link": true
    },
    "kernelspec": {
      "name": "python3",
      "display_name": "Python 3"
    },
    "language_info": {
      "name": "python"
    }
  },
  "cells": [
    {
      "cell_type": "markdown",
      "metadata": {
        "id": "view-in-github",
        "colab_type": "text"
      },
      "source": [
        "<a href=\"https://colab.research.google.com/github/zahid-bracu/buet-iac-business-analytics/blob/main/Lecture_4_Numpy_Array.ipynb\" target=\"_parent\"><img src=\"https://colab.research.google.com/assets/colab-badge.svg\" alt=\"Open In Colab\"/></a>"
      ]
    },
    {
      "cell_type": "markdown",
      "source": [
        "Docs Index : https://docs.google.com/document/d/1Md0-O4CKjvpYbzzFP7dyooB0eJP2G5tAj4YUnQ2QWdo/edit?usp=sharing"
      ],
      "metadata": {
        "id": "S05QpEv9zvEq"
      }
    },
    {
      "cell_type": "markdown",
      "source": [
        "####Import numpy and version check"
      ],
      "metadata": {
        "id": "w_1_2uq1Wqko"
      }
    },
    {
      "cell_type": "code",
      "execution_count": null,
      "metadata": {
        "colab": {
          "base_uri": "https://localhost:8080/"
        },
        "id": "uEjb13U_VK6e",
        "outputId": "0bc1a281-8953-458f-eae2-445c97e596e2"
      },
      "outputs": [
        {
          "output_type": "stream",
          "name": "stdout",
          "text": [
            "1.25.2\n"
          ]
        }
      ],
      "source": [
        "import numpy as np\n",
        "print(np.__version__)"
      ]
    },
    {
      "cell_type": "markdown",
      "source": [
        "####Creating Simple Array"
      ],
      "metadata": {
        "id": "9g8t-yFGWx8A"
      }
    },
    {
      "cell_type": "code",
      "source": [
        "a=[[11,22,33],[44,55,66],[77,88,99]]\n",
        "b=[[111,222],[444,555],[777,888]]\n",
        "print(a)\n",
        "print(b)\n",
        "print(a+b) #adding two simple array"
      ],
      "metadata": {
        "colab": {
          "base_uri": "https://localhost:8080/"
        },
        "id": "WN41p4rKW11f",
        "outputId": "9638f7d9-6f35-4d54-e569-02b4b2d9837b"
      },
      "execution_count": null,
      "outputs": [
        {
          "output_type": "stream",
          "name": "stdout",
          "text": [
            "[[11, 22, 33], [44, 55, 66], [77, 88, 99]]\n",
            "[[111, 222], [444, 555], [777, 888]]\n",
            "[[11, 22, 33], [44, 55, 66], [77, 88, 99], [111, 222], [444, 555], [777, 888]]\n"
          ]
        }
      ]
    },
    {
      "cell_type": "markdown",
      "source": [
        "####Creating Numpy Array"
      ],
      "metadata": {
        "id": "kvK4qRu3XHy3"
      }
    },
    {
      "cell_type": "code",
      "source": [
        "a=np.array([[11,22,33],[44,55,66]])\n",
        "b=np.array([[111,222,999],[333,444,888]])\n",
        "print(a)\n",
        "print(b)\n"
      ],
      "metadata": {
        "colab": {
          "base_uri": "https://localhost:8080/"
        },
        "id": "2LEA7BjlXLhw",
        "outputId": "a9048b24-8978-484f-c839-6c6409eca131"
      },
      "execution_count": null,
      "outputs": [
        {
          "output_type": "stream",
          "name": "stdout",
          "text": [
            "[[11 22 33]\n",
            " [44 55 66]]\n",
            "[[111 222 999]\n",
            " [333 444 888]]\n"
          ]
        }
      ]
    },
    {
      "cell_type": "code",
      "source": [
        "c=a+b #adding two numpy array\n",
        "print(c)"
      ],
      "metadata": {
        "colab": {
          "base_uri": "https://localhost:8080/"
        },
        "id": "fEdjmJrTglc8",
        "outputId": "a96bf54d-1bc3-4440-af42-69cd5ee582e6"
      },
      "execution_count": null,
      "outputs": [
        {
          "output_type": "stream",
          "name": "stdout",
          "text": [
            "[[ 122  244 1032]\n",
            " [ 377  499  954]]\n"
          ]
        }
      ]
    },
    {
      "cell_type": "code",
      "source": [
        "d=c*10 #multiply with 10\n",
        "print(d)"
      ],
      "metadata": {
        "colab": {
          "base_uri": "https://localhost:8080/"
        },
        "id": "_y1uilUFgqJZ",
        "outputId": "b4259d09-3e37-4243-ff99-22ddfba344e1"
      },
      "execution_count": null,
      "outputs": [
        {
          "output_type": "stream",
          "name": "stdout",
          "text": [
            "[[ 1220  2440 10320]\n",
            " [ 3770  4990  9540]]\n"
          ]
        }
      ]
    },
    {
      "cell_type": "markdown",
      "source": [
        "####Idientity Matrix creation"
      ],
      "metadata": {
        "id": "HVGhcPTfgbek"
      }
    },
    {
      "cell_type": "code",
      "source": [
        "id=np.eye(2)\n",
        "print(id)"
      ],
      "metadata": {
        "colab": {
          "base_uri": "https://localhost:8080/"
        },
        "id": "4OycCpeii0ky",
        "outputId": "b26d5739-87a2-4d8a-be47-be5bf527b1de"
      },
      "execution_count": null,
      "outputs": [
        {
          "output_type": "stream",
          "name": "stdout",
          "text": [
            "[[1. 0.]\n",
            " [0. 1.]]\n"
          ]
        }
      ]
    },
    {
      "cell_type": "markdown",
      "source": [
        "####Random Numpy Array Create"
      ],
      "metadata": {
        "id": "7_ppTheoW8v0"
      }
    },
    {
      "cell_type": "code",
      "source": [
        "a=np.random.randint(20,30,(2,3))\n",
        "print(a)"
      ],
      "metadata": {
        "colab": {
          "base_uri": "https://localhost:8080/"
        },
        "id": "KNUF4iOZmJhj",
        "outputId": "75ebc523-f3b3-446a-fb45-d8ee0cdff027"
      },
      "execution_count": null,
      "outputs": [
        {
          "output_type": "stream",
          "name": "stdout",
          "text": [
            "[[20 24 28]\n",
            " [22 21 26]]\n"
          ]
        }
      ]
    },
    {
      "cell_type": "markdown",
      "source": [
        "np.random.randint(10, 20, size=(2, 3)): This line generates a random integer array using NumPy's randint function. Here's what each argument does:\n",
        "* 10: This is the lower bound (inclusive) of the random integers that can be generated.\n",
        "* 20: This is the upper bound (exclusive) of the random integers that can be generated.\n",
        "* size=(2, 3): This specifies the shape of the array to be generated. In this case, it creates a 2x3 array, meaning it has 2 rows and 3 columns."
      ],
      "metadata": {
        "id": "D1hA4-N8tm74"
      }
    },
    {
      "cell_type": "markdown",
      "source": [
        "####Random Numpy Array Create within range"
      ],
      "metadata": {
        "id": "GJYU8k6eXAxE"
      }
    },
    {
      "cell_type": "code",
      "source": [
        "y=[x for x in range(27)]\n",
        "x=np.array([y])\n",
        "print(x)"
      ],
      "metadata": {
        "colab": {
          "base_uri": "https://localhost:8080/"
        },
        "id": "1JZR5bzSwN2o",
        "outputId": "b4a1ef46-2ab0-4a40-b73b-ea01d01f720c"
      },
      "execution_count": 30,
      "outputs": [
        {
          "output_type": "stream",
          "name": "stdout",
          "text": [
            "[[ 0  1  2  3  4  5  6  7  8  9 10 11 12 13 14 15 16 17 18 19 20 21 22 23\n",
            "  24 25 26]]\n"
          ]
        }
      ]
    },
    {
      "cell_type": "markdown",
      "source": [
        "* y = [x for x in range(27)]: This line generates a list y containing numbers from 0 to 26 using list comprehension. The expression [x for x in range(27)] iterates over the numbers from 0 to 26 (inclusive) using range(27) and creates a list with those numbers.\n",
        "* x = np.array([y]): Here, you're converting the list y into a NumPy array x. The expression np.array([y]) creates a NumPy array from the list y. The outer square brackets [] create a list with a single element, which is the list y, and then np.array() converts this list into a NumPy array."
      ],
      "metadata": {
        "id": "5jRVmg3hx1UP"
      }
    },
    {
      "cell_type": "markdown",
      "source": [
        "####Array Shape Check"
      ],
      "metadata": {
        "id": "7qq1W6v2XF70"
      }
    },
    {
      "cell_type": "code",
      "source": [
        "x.shape"
      ],
      "metadata": {
        "colab": {
          "base_uri": "https://localhost:8080/"
        },
        "id": "5FyK35Rbx4SN",
        "outputId": "efab6aa5-1886-4f48-f7e1-23eb556f90e8"
      },
      "execution_count": 33,
      "outputs": [
        {
          "output_type": "execute_result",
          "data": {
            "text/plain": [
              "(1, 27)"
            ]
          },
          "metadata": {},
          "execution_count": 33
        }
      ]
    },
    {
      "cell_type": "markdown",
      "source": [
        "####Array Shape Reshaping"
      ],
      "metadata": {
        "id": "EZOkugCtXIID"
      }
    },
    {
      "cell_type": "code",
      "source": [
        "y = x.reshape((3, 9), order='F')\n",
        "y"
      ],
      "metadata": {
        "id": "jj-9j6KSyEPn",
        "outputId": "ffd541f4-3494-4746-eb71-c718d8db2188",
        "colab": {
          "base_uri": "https://localhost:8080/"
        }
      },
      "execution_count": 36,
      "outputs": [
        {
          "output_type": "execute_result",
          "data": {
            "text/plain": [
              "array([[ 0,  3,  6,  9, 12, 15, 18, 21, 24],\n",
              "       [ 1,  4,  7, 10, 13, 16, 19, 22, 25],\n",
              "       [ 2,  5,  8, 11, 14, 17, 20, 23, 26]])"
            ]
          },
          "metadata": {},
          "execution_count": 36
        }
      ]
    },
    {
      "cell_type": "markdown",
      "source": [
        "* order='F': This parameter specifies the order in which elements are read from memory during reshaping. In this case, 'F' stands for Fortran order, which means the elements are read column by column."
      ],
      "metadata": {
        "id": "QwGRaQwXYCRj"
      }
    },
    {
      "cell_type": "code",
      "source": [
        "z = x.reshape((3, 9), order='C')\n",
        "z"
      ],
      "metadata": {
        "colab": {
          "base_uri": "https://localhost:8080/"
        },
        "id": "yI3yy68BYFC7",
        "outputId": "b8feb466-c799-4262-d2bf-bc58b180939d"
      },
      "execution_count": 37,
      "outputs": [
        {
          "output_type": "execute_result",
          "data": {
            "text/plain": [
              "array([[ 0,  1,  2,  3,  4,  5,  6,  7,  8],\n",
              "       [ 9, 10, 11, 12, 13, 14, 15, 16, 17],\n",
              "       [18, 19, 20, 21, 22, 23, 24, 25, 26]])"
            ]
          },
          "metadata": {},
          "execution_count": 37
        }
      ]
    },
    {
      "cell_type": "markdown",
      "source": [
        "* order='C': The order parameter specifies the order in which elements are read from memory during reshaping. In this case, 'C' stands for C-style order, which means the elements are read row by row."
      ],
      "metadata": {
        "id": "oAv4AndCYRiW"
      }
    },
    {
      "cell_type": "markdown",
      "source": [
        "####Changing data types"
      ],
      "metadata": {
        "id": "_zAIvXxvZIhj"
      }
    },
    {
      "cell_type": "code",
      "source": [
        "x=x.astype('int')\n",
        "x.dtype"
      ],
      "metadata": {
        "colab": {
          "base_uri": "https://localhost:8080/"
        },
        "id": "1ooAqHiAYSyr",
        "outputId": "4f1d6b69-1783-47d4-b940-2686fbfa6e6f"
      },
      "execution_count": 53,
      "outputs": [
        {
          "output_type": "execute_result",
          "data": {
            "text/plain": [
              "dtype('int64')"
            ]
          },
          "metadata": {},
          "execution_count": 53
        }
      ]
    },
    {
      "cell_type": "markdown",
      "source": [
        "####Stack Building"
      ],
      "metadata": {
        "id": "-p-w5oupcs6a"
      }
    },
    {
      "cell_type": "code",
      "source": [
        "a=[[11,22,33],[44,55,66],[77,88,99]]\n",
        "b=[[111,222,333],[444,555,666],[777,888,999]]\n",
        "c=[[110,220,330],[440,550,660],[770,880,990]]\n",
        "d=np.hstack([a,b,c])\n",
        "d"
      ],
      "metadata": {
        "colab": {
          "base_uri": "https://localhost:8080/"
        },
        "id": "PDy9e92PcE6T",
        "outputId": "3e9c9b4d-4d9f-4157-8cf3-03df7ace16a9"
      },
      "execution_count": 60,
      "outputs": [
        {
          "output_type": "execute_result",
          "data": {
            "text/plain": [
              "array([[ 11,  22,  33, 111, 222, 333, 110, 220, 330],\n",
              "       [ 44,  55,  66, 444, 555, 666, 440, 550, 660],\n",
              "       [ 77,  88,  99, 777, 888, 999, 770, 880, 990]])"
            ]
          },
          "metadata": {},
          "execution_count": 60
        }
      ]
    },
    {
      "cell_type": "markdown",
      "source": [
        "* np.hstack: This function is a NumPy function used to horizontally stack arrays. It takes a sequence of arrays as input and stacks them horizontally (side by side) along the second axis."
      ],
      "metadata": {
        "id": "-fLrkDwzcxhJ"
      }
    }
  ]
}