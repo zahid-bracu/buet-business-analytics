{
  "nbformat": 4,
  "nbformat_minor": 0,
  "metadata": {
    "colab": {
      "provenance": [],
      "authorship_tag": "ABX9TyM6N7YfRrXbJCh9Ah++qFvB",
      "include_colab_link": true
    },
    "kernelspec": {
      "name": "python3",
      "display_name": "Python 3"
    },
    "language_info": {
      "name": "python"
    }
  },
  "cells": [
    {
      "cell_type": "markdown",
      "metadata": {
        "id": "view-in-github",
        "colab_type": "text"
      },
      "source": [
        "<a href=\"https://colab.research.google.com/github/zahid-bracu/buet-business-analytics/blob/main/Lecture_4_Numpy_Array.ipynb\" target=\"_parent\"><img src=\"https://colab.research.google.com/assets/colab-badge.svg\" alt=\"Open In Colab\"/></a>"
      ]
    },
    {
      "cell_type": "markdown",
      "source": [
        "Docs Index : https://docs.google.com/document/d/1Md0-O4CKjvpYbzzFP7dyooB0eJP2G5tAj4YUnQ2QWdo/edit?usp=sharing"
      ],
      "metadata": {
        "id": "S05QpEv9zvEq"
      }
    },
    {
      "cell_type": "markdown",
      "source": [
        "####Import numpy and version check"
      ],
      "metadata": {
        "id": "w_1_2uq1Wqko"
      }
    },
    {
      "cell_type": "code",
      "execution_count": 22,
      "metadata": {
        "colab": {
          "base_uri": "https://localhost:8080/"
        },
        "id": "uEjb13U_VK6e",
        "outputId": "3b58d9f6-2231-4dd6-f9c9-a12e394866f5"
      },
      "outputs": [
        {
          "output_type": "stream",
          "name": "stdout",
          "text": [
            "1.25.2\n"
          ]
        }
      ],
      "source": [
        "import numpy as np\n",
        "print(np.__version__)"
      ]
    },
    {
      "cell_type": "markdown",
      "source": [
        "####Creating Numpy Array From List"
      ],
      "metadata": {
        "id": "S4wuL2Lrf_0p"
      }
    },
    {
      "cell_type": "code",
      "source": [
        "my_list=[1.1,2.2,3.3,4.4,5.5,6.6,7.7,8.8,9.9]\n",
        "my_list=[[1.1,2.2,3.3],[4.4,5.5,6.6],[7.7,8.8,9.9]]\n",
        "my_array=np.array(my_list,dtype=float)\n",
        "print(my_array)"
      ],
      "metadata": {
        "colab": {
          "base_uri": "https://localhost:8080/"
        },
        "id": "j4fBhQzbfcxC",
        "outputId": "615d85b1-b563-4a7a-9e40-fb400d82392f"
      },
      "execution_count": 23,
      "outputs": [
        {
          "output_type": "stream",
          "name": "stdout",
          "text": [
            "[[1.1 2.2 3.3]\n",
            " [4.4 5.5 6.6]\n",
            " [7.7 8.8 9.9]]\n"
          ]
        }
      ]
    },
    {
      "cell_type": "markdown",
      "source": [
        "####Creating Numpy Array From Tuple"
      ],
      "metadata": {
        "id": "njCAnM8RgDGx"
      }
    },
    {
      "cell_type": "code",
      "source": [
        "my_tuple=((11,22,33),(44,55,66),(77,88,99))\n",
        "my_np_array=np.array(my_tuple)\n",
        "print(my_np_array)"
      ],
      "metadata": {
        "colab": {
          "base_uri": "https://localhost:8080/"
        },
        "id": "2cw1K6o-f8AJ",
        "outputId": "d089556f-7d76-4754-8372-824cc97921e8"
      },
      "execution_count": 24,
      "outputs": [
        {
          "output_type": "stream",
          "name": "stdout",
          "text": [
            "[[11 22 33]\n",
            " [44 55 66]\n",
            " [77 88 99]]\n"
          ]
        }
      ]
    },
    {
      "cell_type": "markdown",
      "source": [
        "####Generating arrays with specific values : Zeros\n",
        "* 3 : Rows\n",
        "* 4 : Columns"
      ],
      "metadata": {
        "id": "QYC90rJglLKv"
      }
    },
    {
      "cell_type": "code",
      "source": [
        "zeros_array_int=np.zeros((3,4),dtype=float)\n",
        "zeros_array_int"
      ],
      "metadata": {
        "colab": {
          "base_uri": "https://localhost:8080/"
        },
        "id": "2EOwwTtFlOvX",
        "outputId": "c0f8707e-5093-4008-e76f-2e8d98f0e228"
      },
      "execution_count": 25,
      "outputs": [
        {
          "output_type": "execute_result",
          "data": {
            "text/plain": [
              "array([[0., 0., 0., 0.],\n",
              "       [0., 0., 0., 0.],\n",
              "       [0., 0., 0., 0.]])"
            ]
          },
          "metadata": {},
          "execution_count": 25
        }
      ]
    },
    {
      "cell_type": "markdown",
      "source": [
        "####Generating arrays with specific values : Ones"
      ],
      "metadata": {
        "id": "ls8_c21xls7o"
      }
    },
    {
      "cell_type": "code",
      "source": [
        "ones_array_int=np.ones((3,4),dtype=float)\n",
        "ones_array_int"
      ],
      "metadata": {
        "colab": {
          "base_uri": "https://localhost:8080/"
        },
        "id": "df_hux1MmAWW",
        "outputId": "4d1efcf3-cd11-4af1-c5ab-9b0b389e5e85"
      },
      "execution_count": 26,
      "outputs": [
        {
          "output_type": "execute_result",
          "data": {
            "text/plain": [
              "array([[1., 1., 1., 1.],\n",
              "       [1., 1., 1., 1.],\n",
              "       [1., 1., 1., 1.]])"
            ]
          },
          "metadata": {},
          "execution_count": 26
        }
      ]
    },
    {
      "cell_type": "markdown",
      "source": [
        "####Generating arrays with Random Numbers"
      ],
      "metadata": {
        "id": "fxP1c3LLmakv"
      }
    },
    {
      "cell_type": "code",
      "source": [
        "random_array_int=np.random.randint(10,21,size=(3,4))\n",
        "random_array_int"
      ],
      "metadata": {
        "colab": {
          "base_uri": "https://localhost:8080/"
        },
        "id": "3GCQkNq7mfNX",
        "outputId": "069b112b-bb5c-4341-8956-f769d2a7477d"
      },
      "execution_count": 27,
      "outputs": [
        {
          "output_type": "execute_result",
          "data": {
            "text/plain": [
              "array([[11, 10, 15, 17],\n",
              "       [14, 10, 20, 16],\n",
              "       [17, 19, 10, 15]])"
            ]
          },
          "metadata": {},
          "execution_count": 27
        }
      ]
    },
    {
      "cell_type": "markdown",
      "source": [
        "####Generating arrays with Specific Number"
      ],
      "metadata": {
        "id": "DGEEuu1boYtu"
      }
    },
    {
      "cell_type": "code",
      "source": [
        "custom_array=np.full((3,4),7)\n",
        "custom_array"
      ],
      "metadata": {
        "colab": {
          "base_uri": "https://localhost:8080/"
        },
        "id": "BSE9wmkhocVm",
        "outputId": "7e04f6a3-fb50-480b-8f35-a4c4f2b03923"
      },
      "execution_count": 28,
      "outputs": [
        {
          "output_type": "execute_result",
          "data": {
            "text/plain": [
              "array([[7, 7, 7, 7],\n",
              "       [7, 7, 7, 7],\n",
              "       [7, 7, 7, 7]])"
            ]
          },
          "metadata": {},
          "execution_count": 28
        }
      ]
    },
    {
      "cell_type": "markdown",
      "source": [
        "####Array Indexing"
      ],
      "metadata": {
        "id": "uKmwGGna9OL-"
      }
    },
    {
      "cell_type": "code",
      "source": [
        "index_array=np.array([0,1,2,3,4,5,6,7,8,9])\n",
        "print(index_array[0])\n",
        "print(index_array[-4])\n",
        "\n",
        "index_array_2d=np.array([[11,22,33],[44,55,66],[77,88,99]])\n",
        "print(index_array_2d[1,2])\n",
        "print(index_array_2d[-3,-3])"
      ],
      "metadata": {
        "colab": {
          "base_uri": "https://localhost:8080/"
        },
        "id": "s-95LoDk9SZq",
        "outputId": "68eafba2-db08-4125-a5f2-23aa40b5a221"
      },
      "execution_count": 29,
      "outputs": [
        {
          "output_type": "stream",
          "name": "stdout",
          "text": [
            "0\n",
            "6\n",
            "66\n",
            "11\n"
          ]
        }
      ]
    },
    {
      "cell_type": "markdown",
      "source": [
        "####Array Slicing"
      ],
      "metadata": {
        "id": "MmgB_rQXgdZR"
      }
    },
    {
      "cell_type": "code",
      "source": [
        "slice_array=[11,22,33,44,55,66,77,88,99]\n",
        "print(slice_array[:5]) #1st to index 4\n",
        "print(slice_array[3:]) #index 3 to last\n",
        "print(slice_array[2:6]) #index 2 to index 5\n",
        "print(slice_array[:-3]) #1st to 4th last\n",
        "print(slice_array[-4:]) #4th last to last\n",
        "print(slice_array[-6:-2]) #6th last to 3rd last\n",
        "print(slice_array[2:-3]) #index 2 to 4th last\n",
        "print(slice_array[-6:6]) #6th last to index 5"
      ],
      "metadata": {
        "colab": {
          "base_uri": "https://localhost:8080/"
        },
        "id": "6LVhNnmBggSA",
        "outputId": "1cb23d53-2bec-42fc-88c5-ef60ce495a11"
      },
      "execution_count": 30,
      "outputs": [
        {
          "output_type": "stream",
          "name": "stdout",
          "text": [
            "[11, 22, 33, 44, 55]\n",
            "[44, 55, 66, 77, 88, 99]\n",
            "[33, 44, 55, 66]\n",
            "[11, 22, 33, 44, 55, 66]\n",
            "[66, 77, 88, 99]\n",
            "[44, 55, 66, 77]\n",
            "[33, 44, 55, 66]\n",
            "[44, 55, 66]\n"
          ]
        }
      ]
    },
    {
      "cell_type": "code",
      "source": [
        "slice_array_2d=np.array([[11,22,33,111,222,333],[44,55,66,444,555,666],[77,88,99,777,888,999]])\n",
        "print(slice_array_2d[1,1:4]) #index row 1 এর index 1 থেকে index 3"
      ],
      "metadata": {
        "colab": {
          "base_uri": "https://localhost:8080/"
        },
        "id": "5draE7EClLuH",
        "outputId": "bebefb12-64d5-4480-c600-0cf396e68432"
      },
      "execution_count": 31,
      "outputs": [
        {
          "output_type": "stream",
          "name": "stdout",
          "text": [
            "[ 55  66 444]\n"
          ]
        }
      ]
    },
    {
      "cell_type": "markdown",
      "source": [
        "####Boolean Indexing"
      ],
      "metadata": {
        "id": "On19OX-ppl9O"
      }
    },
    {
      "cell_type": "code",
      "source": [
        "boolean_arr = np.array([11,22,33,3,55,4,77,1,2])\n",
        "mask = boolean_arr > 5  # Create a mask based on a condition\n",
        "result = boolean_arr[mask]  # Select elements greater than 5\n",
        "print(result)"
      ],
      "metadata": {
        "colab": {
          "base_uri": "https://localhost:8080/"
        },
        "id": "gmo6JKr1pxLO",
        "outputId": "d1881d5d-5a71-4e36-ec8f-3ffe3737f902"
      },
      "execution_count": 32,
      "outputs": [
        {
          "output_type": "stream",
          "name": "stdout",
          "text": [
            "[11 22 33 55 77]\n"
          ]
        }
      ]
    },
    {
      "cell_type": "markdown",
      "source": [
        "####Fancy Index"
      ],
      "metadata": {
        "id": "o8D6dT8jqmXB"
      }
    },
    {
      "cell_type": "code",
      "source": [
        "#1D Array\n",
        "fancy_array=np.array([11,22,33,44,55,66,77,88,99])\n",
        "indices=[0,2,4,6]\n",
        "res=fancy_array[indices]\n",
        "print(res)\n",
        "\n",
        "#2D Array\n",
        "fancy_array_2D=np.array([[11,22,33],[44,55,66],[77,88,99],[110,220,330]])\n",
        "indices=[1,3]\n",
        "res=fancy_array_2D[indices]\n",
        "print(res)\n",
        "\n",
        "\n",
        "#2D Array ****\n",
        "fancy_array_2D=np.array([[11,22,33],[44,55,66],[77,88,99],[110,220,330]])\n",
        "indices_row=[1,3]\n",
        "indices_column=[1,1]\n",
        "res=fancy_array_2D[indices_row,indices_column]\n",
        "print(res)"
      ],
      "metadata": {
        "colab": {
          "base_uri": "https://localhost:8080/"
        },
        "id": "XlXIO035qpvw",
        "outputId": "68d5326c-8d58-456c-cf10-93e1a734bc01"
      },
      "execution_count": 33,
      "outputs": [
        {
          "output_type": "stream",
          "name": "stdout",
          "text": [
            "[11 33 55 77]\n",
            "[[ 44  55  66]\n",
            " [110 220 330]]\n",
            "[ 55 220]\n"
          ]
        }
      ]
    },
    {
      "cell_type": "markdown",
      "source": [
        "####Arithmetic Operations"
      ],
      "metadata": {
        "id": "oWwkPlApZYXs"
      }
    },
    {
      "cell_type": "code",
      "source": [
        "import numpy as np\n",
        "\n",
        "arr1=np.array([1,2,3])\n",
        "arr2=np.array([4,5,6])\n",
        "res=arr1+arr2\n",
        "print(res)"
      ],
      "metadata": {
        "colab": {
          "base_uri": "https://localhost:8080/"
        },
        "id": "-IXd6mIOYSiV",
        "outputId": "e4348318-22e9-42c7-a8d7-20ae22d38cef"
      },
      "execution_count": 34,
      "outputs": [
        {
          "output_type": "stream",
          "name": "stdout",
          "text": [
            "[5 7 9]\n"
          ]
        }
      ]
    },
    {
      "cell_type": "code",
      "source": [
        "res_sub=arr1-arr2\n",
        "print(res_sub)"
      ],
      "metadata": {
        "colab": {
          "base_uri": "https://localhost:8080/"
        },
        "id": "nnugYKnRYrso",
        "outputId": "4c229ec1-af0d-435e-a12d-1cbc57bc7bb8"
      },
      "execution_count": 35,
      "outputs": [
        {
          "output_type": "stream",
          "name": "stdout",
          "text": [
            "[-3 -3 -3]\n"
          ]
        }
      ]
    },
    {
      "cell_type": "code",
      "source": [
        "res_mult=arr1*arr2\n",
        "print(res_mult)"
      ],
      "metadata": {
        "colab": {
          "base_uri": "https://localhost:8080/"
        },
        "id": "OTNV1M9YZOJE",
        "outputId": "39261ddd-1668-4ccb-bf3d-7644e701d4cf"
      },
      "execution_count": 36,
      "outputs": [
        {
          "output_type": "stream",
          "name": "stdout",
          "text": [
            "[ 4 10 18]\n"
          ]
        }
      ]
    },
    {
      "cell_type": "code",
      "source": [
        "res_div=arr1/arr2\n",
        "print(res_div)"
      ],
      "metadata": {
        "colab": {
          "base_uri": "https://localhost:8080/"
        },
        "id": "LiwRfSEPZU8b",
        "outputId": "74b99c65-4e0c-4f0c-d3f2-0c16a35349ee"
      },
      "execution_count": 37,
      "outputs": [
        {
          "output_type": "stream",
          "name": "stdout",
          "text": [
            "[0.25 0.4  0.5 ]\n"
          ]
        }
      ]
    },
    {
      "cell_type": "markdown",
      "source": [
        "####Broadcasting"
      ],
      "metadata": {
        "id": "g-PYQJcNaLCc"
      }
    },
    {
      "cell_type": "code",
      "source": [
        "import numpy as np\n",
        "\n",
        "# A 2x3 array\n",
        "arr1 = np.array([[1, 2, 3],\n",
        "                 [4, 5, 6]])\n",
        "\n",
        "# A 1x3 array\n",
        "arr2 = np.array([10, 20, 30])\n",
        "\n",
        "# Broadcasting arr2 to match the shape of arr1\n",
        "result = arr1 * arr2\n",
        "\n",
        "print(result)"
      ],
      "metadata": {
        "colab": {
          "base_uri": "https://localhost:8080/"
        },
        "id": "B0ttQqbAZ3e9",
        "outputId": "f39817a7-2c40-4d5f-e9cd-8653c211e504"
      },
      "execution_count": 38,
      "outputs": [
        {
          "output_type": "stream",
          "name": "stdout",
          "text": [
            "[[ 10  40  90]\n",
            " [ 40 100 180]]\n"
          ]
        }
      ]
    },
    {
      "cell_type": "code",
      "source": [
        "#Broadcasting\n",
        "arr = np.array([1, 2, 3])\n",
        "broadcasted_arr = np.broadcast_to(arr, (2, 3))\n",
        "print(broadcasted_arr)\n",
        "#This will create a 2x3 array where each row is a copy of the original array [1, 2, 3]."
      ],
      "metadata": {
        "colab": {
          "base_uri": "https://localhost:8080/"
        },
        "id": "C3q1GUpYaTIU",
        "outputId": "cb4da095-a6bb-43aa-dd23-a9bb505eff8f"
      },
      "execution_count": 39,
      "outputs": [
        {
          "output_type": "stream",
          "name": "stdout",
          "text": [
            "[[1 2 3]\n",
            " [1 2 3]]\n"
          ]
        }
      ]
    },
    {
      "cell_type": "markdown",
      "source": [
        "####Array aggregation (sum, mean, max, min, etc.)\n"
      ],
      "metadata": {
        "id": "zT7CyLWSeZOz"
      }
    },
    {
      "cell_type": "code",
      "source": [
        "array_sum=np.array([[11,22,33],[44,55,66]])\n",
        "sum=np.sum(array_sum)\n",
        "print(\"Sum\",sum)\n",
        "mean=np.mean(array_sum)\n",
        "print(\"Mean\",mean)\n",
        "min=np.min(array_sum)\n",
        "print(\"Min\",min)\n",
        "max=np.max(array_sum)\n",
        "print(\"Max\",max)\n",
        "std=np.std(array_sum)\n",
        "print(\"Std\",std)\n",
        "\n"
      ],
      "metadata": {
        "colab": {
          "base_uri": "https://localhost:8080/"
        },
        "id": "weUmLnsBeida",
        "outputId": "28122582-518b-4ba9-8e6e-111a6e8207cc"
      },
      "execution_count": 50,
      "outputs": [
        {
          "output_type": "stream",
          "name": "stdout",
          "text": [
            "Sum 231\n",
            "Mean 38.5\n",
            "Min 11\n",
            "Max 66\n",
            "Std 18.786076404259266\n"
          ]
        }
      ]
    },
    {
      "cell_type": "markdown",
      "source": [
        "####Array concatenation and stacking"
      ],
      "metadata": {
        "id": "bQVOVONbe8Kq"
      }
    },
    {
      "cell_type": "code",
      "source": [
        "array_one=np.ones((2,3),int)\n",
        "array_zeros=np.zeros((2,3))\n",
        "array_block=np.block([array_one,array_zeros]) #horizontal concatenation\n",
        "array_block"
      ],
      "metadata": {
        "colab": {
          "base_uri": "https://localhost:8080/"
        },
        "id": "3I6NWLIMghIR",
        "outputId": "3f3f7836-9b3a-4f83-a103-e4a678c49edd"
      },
      "execution_count": 64,
      "outputs": [
        {
          "output_type": "execute_result",
          "data": {
            "text/plain": [
              "array([[1., 1., 1., 0., 0., 0.],\n",
              "       [1., 1., 1., 0., 0., 0.]])"
            ]
          },
          "metadata": {},
          "execution_count": 64
        }
      ]
    },
    {
      "cell_type": "code",
      "source": [
        "array_vstack=np.vstack([array_one,array_zeros]) #vertical concatenation\n",
        "array_vstack"
      ],
      "metadata": {
        "colab": {
          "base_uri": "https://localhost:8080/"
        },
        "id": "Nune_ZPyhnBx",
        "outputId": "3dfae023-1321-47b9-a99d-095f51659f70"
      },
      "execution_count": 63,
      "outputs": [
        {
          "output_type": "execute_result",
          "data": {
            "text/plain": [
              "array([[1., 1., 1.],\n",
              "       [1., 1., 1.],\n",
              "       [0., 0., 0.],\n",
              "       [0., 0., 0.]])"
            ]
          },
          "metadata": {},
          "execution_count": 63
        }
      ]
    }
  ]
}